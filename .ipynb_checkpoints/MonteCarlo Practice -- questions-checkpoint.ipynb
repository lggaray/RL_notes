{
 "cells": [
  {
   "cell_type": "code",
   "execution_count": 184,
   "metadata": {},
   "outputs": [],
   "source": [
    "class env():\n",
    "    def __init__(self,ls):\n",
    "        self.seq = ls\n",
    "        self.ac = -1\n",
    "        self.len = len(self.seq)\n",
    "        self.is_three = False\n",
    "    def walk(self,action=1):\n",
    "        try:\n",
    "            prev_ac = self.ac\n",
    "            self.ac += action\n",
    "            reward = action*self.seq[self.ac]\n",
    "            state = self.seq[self.ac]\n",
    "            current_index = self.seq.index(state)\n",
    "        except : \n",
    "            state = self.seq[prev_ac]\n",
    "            self.ac = prev_ac\n",
    "            reward = -20\n",
    "            current_index = self.seq.index(state)\n",
    "        \n",
    "        if self.is_three and action == 3:\n",
    "            state = self.seq[prev_ac]\n",
    "            self.ac = prev_ac\n",
    "            reward = -20\n",
    "            current_index = self.seq.index(state)\n",
    "            \n",
    "        if action == 3:\n",
    "            self.is_three =True\n",
    "        if self..len\n",
    "        yield state,reward,current_index,\n",
    "    def reset(self):\n",
    "        self.seq = ls\n",
    "        self.ac = -1\n",
    "        self.is_three = False"
   ]
  },
  {
   "cell_type": "code",
   "execution_count": 192,
   "metadata": {},
   "outputs": [
    {
     "data": {
      "text/plain": [
       "6"
      ]
     },
     "execution_count": 192,
     "metadata": {},
     "output_type": "execute_result"
    }
   ],
   "source": [
    "ls= [13,26,19,12,5,20]\n",
    "hopping_stone = env(ls)"
   ]
  },
  {
   "cell_type": "code",
   "execution_count": 191,
   "metadata": {},
   "outputs": [
    {
     "data": {
      "text/plain": [
       "(20, 20, 5)"
      ]
     },
     "execution_count": 191,
     "metadata": {},
     "output_type": "execute_result"
    }
   ],
   "source": [
    "list(hopping_stone.walk(1))[0]"
   ]
  },
  {
   "cell_type": "code",
   "execution_count": 181,
   "metadata": {},
   "outputs": [
    {
     "data": {
      "text/plain": [
       "(5, -20, True, 4)"
      ]
     },
     "execution_count": 181,
     "metadata": {},
     "output_type": "execute_result"
    }
   ],
   "source": [
    "list(hopping_stone.walk(3))[0]"
   ]
  },
  {
   "cell_type": "code",
   "execution_count": 164,
   "metadata": {},
   "outputs": [],
   "source": [
    "hopping_stone.reset()"
   ]
  },
  {
   "cell_type": "code",
   "execution_count": 44,
   "metadata": {},
   "outputs": [],
   "source": [
    "import numpy as np"
   ]
  },
  {
   "cell_type": "code",
   "execution_count": null,
   "metadata": {},
   "outputs": [],
   "source": [
    "def generating_episodes(env,Q):\n",
    "    episode = []\n",
    "    env.reset()\n",
    "    count = env.len\n",
    "    is_three = False\n",
    "    current_index = 0\n",
    "    while True:\n",
    "        action= get_action(Q,epsilon)\n",
    "        state,reward,current_index=list(hopping_stone.walk(action))[0] \n",
    "        if     \n",
    "        "
   ]
  },
  {
   "cell_type": "code",
   "execution_count": null,
   "metadata": {},
   "outputs": [],
   "source": [
    "def get_action(Q):\n",
    "        action_space = (np.zeros(3)+1)*epsilon/3\n",
    "        action_space[np.argmax(Q)] = 1 - epsilon + epsilon/3\n",
    "        action = np.random.choice(np.arange(3)+1,p=action_space)\n",
    "    return action\n",
    "        \n",
    "        \n",
    "    "
   ]
  },
  {
   "cell_type": "code",
   "execution_count": 129,
   "metadata": {},
   "outputs": [
    {
     "data": {
      "text/plain": [
       "array([1, 2, 3])"
      ]
     },
     "execution_count": 129,
     "metadata": {},
     "output_type": "execute_result"
    }
   ],
   "source": []
  },
  {
   "cell_type": "code",
   "execution_count": 80,
   "metadata": {},
   "outputs": [
    {
     "name": "stdout",
     "output_type": "stream",
     "text": [
      "[[1 7 3 5]\n",
      " [2 3 5 9]\n",
      " [3 5 9 0]]\n",
      "Not the required matrix!!\n"
     ]
    }
   ],
   "source": [
    "from collections import defaultdict\n",
    "temp = {}\n",
    "matrix = np.array([[1,7,3,5],[2,3,5,9],[3,5,9,0]])\n",
    "print(matrix)\n",
    "flag=0\n",
    "nrow ,ncol = matrix.shape\n",
    "for i in range(nrow):\n",
    "    for j in range(ncol):\n",
    "        #print(matrix[i][j])\n",
    "        if i+j != ncol and i+j != 0:\n",
    "            if i+j not in temp.keys():\n",
    "                temp[i+j] = [matrix[i][j]]\n",
    "            else :\n",
    "                if temp[i+j][-1] != matrix[i][j]:\n",
    "                    print(\"Not the required matrix!!\")\n",
    "                    flag = 1\n",
    "                    break\n",
    "if flag == 0: print(\"Hankle matrix\") "
   ]
  },
  {
   "cell_type": "code",
   "execution_count": 71,
   "metadata": {},
   "outputs": [
    {
     "data": {
      "text/plain": [
       "array([[1, 2, 3],\n",
       "       [2, 3, 5]])"
      ]
     },
     "execution_count": 71,
     "metadata": {},
     "output_type": "execute_result"
    }
   ],
   "source": [
    "np.array(matrix)"
   ]
  },
  {
   "cell_type": "code",
   "execution_count": 68,
   "metadata": {},
   "outputs": [
    {
     "data": {
      "text/plain": [
       "{1: [2, 2], 2: [3, 3]}"
      ]
     },
     "execution_count": 68,
     "metadata": {},
     "output_type": "execute_result"
    }
   ],
   "source": [
    "temp"
   ]
  },
  {
   "cell_type": "code",
   "execution_count": null,
   "metadata": {},
   "outputs": [],
   "source": []
  }
 ],
 "metadata": {
  "kernelspec": {
   "display_name": "Python 3",
   "language": "python",
   "name": "python3"
  },
  "language_info": {
   "codemirror_mode": {
    "name": "ipython",
    "version": 3
   },
   "file_extension": ".py",
   "mimetype": "text/x-python",
   "name": "python",
   "nbconvert_exporter": "python",
   "pygments_lexer": "ipython3",
   "version": "3.6.5"
  }
 },
 "nbformat": 4,
 "nbformat_minor": 2
}
