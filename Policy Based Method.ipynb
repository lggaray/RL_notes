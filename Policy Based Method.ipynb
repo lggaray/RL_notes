{
 "cells": [
  {
   "cell_type": "markdown",
   "metadata": {},
   "source": [
    "# Introduction to Policy Based Method"
   ]
  },
  {
   "cell_type": "markdown",
   "metadata": {},
   "source": [
    "## Recap \n",
    "### Value-Based Methods:\n",
    "* Interaction $\\to$ Optimal Value Function $q_*$ $\\to$ OptimalPolicy $\\pi_*$\n",
    "\n",
    "\n",
    "* Value Function is represented in form of table, where rows corresponds to states and column corresponds to action.\n",
    "* And then we use the above table to build an optimal policy.\n",
    "\n",
    "* **BUT what about environments with much larger state space?**\n",
    "    * So we investigated how to represent the optimal action value function with a neural network which formed the basis for the deep Q learning algorithm.\n",
    "    * Input_dim : state_dim , Output_dim: action_dim\n",
    "    \n",
    "* But the important message here is that the both cases, whether we use the table for small state spaces or an neural network for much larger state spaces, we had to first **Estimate** optimal action value before we could tackle the optimal policy.\n",
    "\n",
    "## Million Dollar Question\n",
    "* Can we directly find the optimal policy without worrying about a value function at all?\n",
    "    * YES!! -- Policy-based methods.\n",
    "    "
   ]
  },
  {
   "cell_type": "markdown",
   "metadata": {},
   "source": [
    "# Policy Function Approximation"
   ]
  },
  {
   "cell_type": "markdown",
   "metadata": {},
   "source": [
    "* How might we approach this idea of estimating an optimal policy?\n",
    "    * Let's take cart pole example\n",
    "    * In this case agent has **two** possible action and dimension of state space is **four**.\n",
    "    * It can push the cart either left or right.\n",
    "    * At each time step agents picks one of two actions.\n",
    "    * And we can construct a neural network that **approximates** the policy, that accepts the state as input.\n",
    "    * As output, it can return the probability that the agent selects each possible action.\n",
    "    * So if there are two possible actions, the output layer will have two nodes.\n",
    "    * The agent uses this policy to interact with the environment by just passing the most recent state to the network.\n",
    "    * It outputs the action probability and then the agent samples from those probabilities to select an action in response.\n",
    "* Our objective then is to determine appropriate values for the network weights so that for each state that we pass into the network it returns the **Action probabilities** where the optimal action is most likely selected.\n",
    "* This will help agent with its goal to maximize expected return.\n",
    "\n",
    "\n",
    "\n",
    "* This is an iterative process where weights are initially set to the random values.\n",
    "* Then, as the agent interacts with the environment and learns more about the strategies are best for maximizing reward."
   ]
  },
  {
   "cell_type": "markdown",
   "metadata": {},
   "source": [
    "## More on the Policy\n",
    "* The agent can use a simple neural network architecture to approximate a **Stochastic policy**. The agent passes the current environment state as input to the network, ehich returns action probabilities. Then, the agent samples from those probabilities to select an action.\n",
    "* The same neural network architecture can be used to approximate a **Deterministic policy**. Instead of sampling from the action probabilities, the agent need only choose the greedy action.\n",
    "* **SOFTMAX** as output activation function."
   ]
  },
  {
   "cell_type": "markdown",
   "metadata": {},
   "source": [
    "## What about continuous action spaces?\n",
    "*** \n",
    "The CartPole environment has a discrete action space. So, how do we use a neural network to approximate a policy, if the environment has a continuous action space?\n",
    "\n",
    "As we have learned, in the case of **discrete** action spaces, the neural network has one node for each possible action.\n",
    "\n",
    "For **continuous** action spaces, the neural network has one node for each action entry (or index). For example, consider the action space of the **bipedal walker** environment.\n",
    "<img src = \"./images/a14.png\">\n",
    "In this case, any action is a vector of four numbers, so the output layer of the policy network will have four nodes.\n",
    "\n",
    "Since every entry in the action must be a number between -1 and 1, we will add a tanh activation function to the output layer.\n",
    "\n",
    "In `MountainCarContinuous-v0` environment. The Layer size 1, Activation function: tanh"
   ]
  },
  {
   "cell_type": "markdown",
   "metadata": {},
   "source": [
    "# Hill Climbing\n",
    "* So remember that the agent goal is always to **maximize expected return**.\n",
    "* Let's denote the expected return as $J$.\n",
    "* And weights in NeuralNetwork as $\\theta$.\n",
    "* And there's some mathematical relationship between $\\theta$ and the expected return $J$.\n",
    "* This is because $\\theta $ encodes the policy which makes some action more likely than others, and depending on action that influences the reward and then we sum up the rewards to get the return.\n",
    "* The main idea is that it's possible to write the expected return $J$ as the function of $\\theta$ for e.g. $J = F(\\theta)$.\n",
    "> $J(\\theta) = \\sum_{\\tau} P(\\tau;\\theta)R(\\tau)$\n",
    "<br>$\\sum_{\\tau} P(\\tau;\\theta)R(\\tau)$ = Expected value of reward across $\\tau$ timesteps, Expected value of a probability distribution is summation of probability of each sample in that distribution times(product) value of that sample.\n",
    "\n",
    "* And we want to optimize the values of $\\theta$ such that it **maximizes the EXPECTED RETURN** $J$.\n",
    "\n",
    "### Hill Climbing\n",
    "* We begin with an initially random set of weights $\\theta$.We collect a single **episode** with the policy that corresponds to those weights and then record the return.\n",
    "* This return is an estimate of what the surface looks like at that value of $\\theta$.\n",
    "* Now it's not going to be a perfect estimate because the return we just collected is unlike to be equal to the expected return, but in practice the estimates often turns out to be good enough.\n",
    "* Then we add little bit of noise to those weights to give us another set of candidate weights we can try.\n",
    "* **To see how good those new weights are, we'll use the policy that they give us to again iteract with the environment for an episode and add up the return.**\n",
    "* In up the new weights, give us __more__ return than our current best estimate, we focus our attention on that new value, and then we just repeat by iteratively proposing new policies in the hope that they outperform the existing policy.\n",
    "* In the event that they don't we go back to our previous best policy.\n",
    "\n",
    "### Working of the process\n",
    "* Consider the case that the neural network has only two weights.\n",
    "* The agent's goal is to maximize expected return $J$.\n",
    "* The weights in the neural network are $\\theta = (\\theta_0,\\theta_1)$\n",
    "* Then we can plot the expected return $J$ as a function of the values of both weights.\n",
    "\n",
    "* Once we get that function we can optimize our $\\theta$ values so that we can maximize the expected return function $J$.\n",
    "\n",
    "#### Gradient Ascent\n",
    "* **Gradient ascent** is similar to gradient descent.\n",
    "    * Gradient descent steps in the **direction opposite the gradient**, since it wants to minimize a function.\n",
    "    * Gradient ascent is otherwise identical, expcept we step in the **direction of the gradient**, to reach the maximum.\n",
    "    \n",
    "#### Local Minima \n",
    "In the video above, we learned that **hill climbing** is relatively simple algorithm that the agent can use to gradually improve the weights $\\theta$ in its policy network while interacting with environment.\n",
    "\n",
    "Note however, that it's **not** guaranteed to always yield the weights of the optimal policy. This is because we can easily get stuck in a local maximum. In this lesson, we'll learn about some policy-based methods that are less prone to this.\n"
   ]
  },
  {
   "cell_type": "markdown",
   "metadata": {},
   "source": [
    "## Hill Climbing Pseudocode\n",
    "* Initialize the weights $\\theta$ in the policy arbitrarily.\n",
    "* Collect an episode with $\\theta$, and record the return $G$.\n",
    "* $\\theta_{best} \\gets \\theta; G_{best} \\gets G$\n",
    "* Add a little bit of random noise to $\\theta_{best}$, to get a new set of weights $\\theta_{new}$.\n",
    "* Collect an episode with $\\theta_{new}$, and record the return $G_{new}$\n",
    "* if $G_{new} > G_{best}$ then :\n",
    "    * $G_{best} \\gets G_{new}$, $\\theta_{best} \\gets \\theta_{new}$\n",
    "* And repeat until we get optimal policy.\n",
    "\n",
    "\n",
    "### What's the difference between G and J?\n",
    "Well .. in reinforcement learning, the goal of the agent is to find the value of the policy network weights $\\theta$ that maximizes **expected** return, which we have denoted by $J$.\n",
    "\n",
    "In the hill climbing algorithm, the values of $\\theta$ are evaluated according to how much return $G$ they collected in a **single episode**. To see that this might be a little bit strange, note that due to randomness in the environment (and the policy, if it is stochastic), it is highly likely that if we collect a second episode with the same values for $\\theta$ we'll likely get a different value for the return $G$. Because of this, the (sampled) return $G$ is not perfect estimate for the expected return $J$, but it often turns out to be **good enough** in practice.\n",
    "    "
   ]
  },
  {
   "cell_type": "markdown",
   "metadata": {},
   "source": [
    "## Beyond Hill Climbing \n",
    "\n",
    "We denoted the expected return by $J$. Likewise, we used $\\theta$ to refer to weights in the policy network. Then, since $\\theta$ encodes the policy, which influences how much reward the agent will likely receive, we know that $J$ is a function of $\\theta$.\n",
    "\n",
    "Despite the fact that we have no idea what that function $J = J(\\theta)$ looks like, the *hill climbing* algorithm helps us determine the value of $\\theta$ that maximizes it.\n",
    "\n",
    "## Note\n",
    "We refer to the general class of approaches that find $arg\\ max_{\\theta} J(\\theta)$ through randomly pertubring the most recent best estimate as **stochastic policy search.**. Likewise, we can refer to $J$ as an **objective function**, which just refers to the fact that we'd like to *maximize it*!\n",
    "\n",
    "\n",
    "### Improvements in Hill Climbing algorithm\n",
    "* One small improvement to this approach is to choose a small number of neighboring policies at each iteration and pick the best among a small number of neighboring policies at each iteration and pick the best among them.\n",
    "* Generate a few candidate policies by perturbing the parameters randomly and evaluate each policy by iterating with environment. \n",
    "* This give us an idea of the **neighborhood** of the current policy.\n",
    "* Now pick the candidate policy that looks most promising and iterate.\n",
    "* This variation is known as **steepest ascent hill climbing** and it helps to reduce the risk of selecting a next policy that may lead to suboptimal solution.\n",
    "\n",
    "## Stimulated Annealing \n",
    "* Stimulated annealing uses a predefined schedule to control how the policy space is explored.\n",
    "* Starting with a large noise parameter, that is broad neighborhood to explore, we gradually reduce the noise or radius as we get closer and closer to the optimal solution.\n",
    "\n",
    "\n",
    "## Adaptive Noise (Scaling)\n",
    "* Whenever we find a better policy than before, we're likely getting closer to the optimal policy.\n",
    "* This translate to reducing or decaying the variance of the Gaussian noise we add.\n",
    "* But if we don't find a better policy it's probably a good idea to increase our search radius and continue exploring from the current best policy.\n",
    "* This small tweak to stochastic policy makes it much less likely to get stuck, especially in domains with a complicated objective function."
   ]
  },
  {
   "cell_type": "markdown",
   "metadata": {},
   "source": [
    "## More Black-Box Optimization\n",
    "\n",
    "All algorithms that we've learned about in this lesson can be classified as **black box optimization** techniques.\n",
    "\n",
    "**Black-box** refers to the fact that in order to find the value of $\\theta$ that maximizes the function $J = J(\\theta)$, we need only to estimate the value of $J$ at any potential value of $\\theta$.\n",
    "\n",
    "That is, both hill climbing and steepest ascent hill climbing don't know that we're solving a reinforcement learning problem, and they don not care that the function we're trying to maximize corresponding to the expected return.\n",
    "\n",
    "These algorithm only know that for each value of $\\theta$, there's corresponding to $\\theta$ to collect an episode, but the algorithm are not aware of this. To these algorithms, the way we evaluate $\\theta$ is considered a black box, and they don't worry about the details. The algorithms only care about finding the value of $\\theta$ that will maximize the number comes out of the black box.\n",
    "\n"
   ]
  },
  {
   "cell_type": "markdown",
   "metadata": {},
   "source": [
    "## Cross-Entropy method\n",
    "* Hill climbing begins with a best guess for the weights, then it adds a little bit of noise to propose one new policy that might perfrom better.\n",
    "* **Steepest-ascent Hill climbing**, does a little bit more work by generating several neighboring policies at each iteration.\n",
    "* But in both cases, only the best policy prevails.\n",
    "* In **Steepest-ascent Hill climbing** there's a lot of useful information that we're **throwing** out.\n",
    "* Now we'learn about some methods that leverage useful information from the weights that aren't selected as best.\n",
    "#### The process\n",
    "* So what if, instead of selecting only the best policy, we selected the top 10 or 20 percent of them, and took the average?\n",
    "* This what the **Cross -Entropy Method** does.\n",
    "## Evolution Strategies\n",
    "* Another approach is to look at the return that was collected by __each__ candidate policy.\n",
    "* The best policy will be the **Weighted** sum of all of these, where poicies that got higher return, are given more say or get higher weight.\n",
    "* This technique is called **Evolution Strategies**\n",
    "#### Background of evolution strategies\n",
    "* The name originally comes form the idea of biological evolution, where the idea is that the most successful individuals in the policy population, will have the most influence on the next generation or iteration.\n",
    "* Evolution strategies as just another black box optimization technique."
   ]
  },
  {
   "cell_type": "markdown",
   "metadata": {},
   "source": [
    "# Hill Climbing Implementations\n",
    "---\n",
    "\n",
    "In this part, we will train hill climbing with adaptive noise scaling with OpenAI Gym's Cartpole environment.\n"
   ]
  },
  {
   "cell_type": "markdown",
   "metadata": {},
   "source": [
    "## 1. Import the Necessary Packages"
   ]
  },
  {
   "cell_type": "code",
   "execution_count": 1,
   "metadata": {},
   "outputs": [],
   "source": [
    "import gym\n",
    "import numpy as np\n",
    "from collections import deque\n",
    "import matplotlib.pyplot as plt\n",
    "%matplotlib inline\n",
    "\n",
    "#!python -m pip install pyvirtualdisplay\n",
    "# from pyvirtualdisplay import Display\n",
    "# display = Display(visible=0, size=(1400,900))\n",
    "# display.start()\n",
    "\n",
    "is_ipython = 'inline' in plt.get_backend()\n",
    "if is_ipython:\n",
    "    from IPython import display\n",
    "plt.ion()"
   ]
  },
  {
   "cell_type": "markdown",
   "metadata": {},
   "source": [
    "## 2. Define the Policy"
   ]
  },
  {
   "cell_type": "code",
   "execution_count": 2,
   "metadata": {},
   "outputs": [
    {
     "name": "stdout",
     "output_type": "stream",
     "text": [
      "observation space: Box(4,)\n",
      "action space: Discrete(2)\n"
     ]
    }
   ],
   "source": [
    "env = gym.make('CartPole-v0')\n",
    "print('observation space:', env.observation_space)\n",
    "print('action space:', env.action_space)\n",
    "\n",
    "class Policy():\n",
    "    def __init__(self, s_size=4, a_size=2):\n",
    "        self.w = 1e-4*np.random.rand(s_size, a_size) ##weights for simple linear policy: state_space x action_space\n",
    "    \n",
    "    def forward(self, state):\n",
    "        x = np.dot(state,self.w)\n",
    "        ## below is the implementation of softmax function!!\n",
    "        return np.exp(x)/sum(np.exp(x))\n",
    "    \n",
    "    def act(self,state):\n",
    "        probs = self.forward(state)\n",
    "        #action = np.random.choice(2,p=probs)\n",
    "        action = np.argmax(probs)\n",
    "        # option 1: stochastic policy\n",
    "        # option 2: stochastic policy\n",
    "        return action\n",
    "                             "
   ]
  },
  {
   "cell_type": "markdown",
   "metadata": {},
   "source": [
    "## 3. Train the Agent with Stochastic Policy Search"
   ]
  },
  {
   "cell_type": "code",
   "execution_count": 3,
   "metadata": {},
   "outputs": [
    {
     "name": "stdout",
     "output_type": "stream",
     "text": [
      "Episode 100\tAverage Score: 175.24\n",
      "Environment solved in 13 episodes!\tAverage Score: 196.21\n"
     ]
    }
   ],
   "source": [
    "env = gym.make('CartPole-v0')\n",
    "env.seed(0)\n",
    "np.random.seed(0)\n",
    "\n",
    "policy = Policy()\n",
    "\n",
    "def hill_climbing(n_episodes=1000, max_t=1000, gamma=1.0, print_every=100, noise_scale=1e-2):\n",
    "    \"\"\"Implementation of hill climbing with adaptive noise scaling.\n",
    "    \n",
    "    Params\n",
    "    ======\n",
    "        n_episodes (int): maximum number of training episodes\n",
    "        max_t (int): maximum number of timesteps per episode\n",
    "        gamma (float): discount rate\n",
    "        print_every (int): how often to print average score (over last 100 episodes)\n",
    "        noise_scale (float): standard deviation of additive noise\n",
    "    \"\"\"\n",
    "    \n",
    "    scores_deque =deque(maxlen=100)\n",
    "    scores =[]\n",
    "    best_R = -np.Inf\n",
    "    best_w = policy.w\n",
    "    for i_episode in range(1, n_episodes+1):\n",
    "        rewards = []\n",
    "        state = env.reset()\n",
    "        for t in range(max_t):\n",
    "            action = policy.act(state)\n",
    "            state, reward, done, _ = env.step(action)\n",
    "            rewards.append(reward)\n",
    "            if done:\n",
    "                break\n",
    "        scores_deque.append(sum(rewards))\n",
    "        scores.append(sum(rewards))\n",
    "        discounts = [gamma**i for i in range(len(rewards)+1)]\n",
    "        R = sum([a*b for a,b in zip(discounts,rewards)])\n",
    "\n",
    "        ## Adaptive noise\n",
    "        if R>= best_R: ##found better weights\n",
    "            best_R = R\n",
    "            best_w = policy.w\n",
    "            noise_scale = max(1e-3, noise_scale/2)\n",
    "            policy.w += noise_scale*np.random.rand(*policy.w.shape)\n",
    "            ## reducing the noise becuase we found a better policy\n",
    "        else: #did not find better weights\n",
    "            noise_scale = min(2,noise_scale*2)\n",
    "            policy.w = best_w + noise_scale * np.random.rand(*policy.w.shape)\n",
    "            ## update step is intresting as we can see that when we did not find\n",
    "            ## better weights then we are changing our weights as current_best (weight)\n",
    "            ## plus the current set of weight with scaled up noise.\n",
    "\n",
    "        if i_episode % print_every == 0:\n",
    "            print('Episode {}\\tAverage Score: {:.2f}'.format(i_episode,np.mean(scores_deque)))\n",
    "        if np.mean(scores_deque)>=195.0:\n",
    "            print('Environment solved in {:d} episodes!\\tAverage Score: {:.2f}'.format(i_episode-100,np.mean(scores_deque)))\n",
    "            policy.w = best_w\n",
    "            break\n",
    "    return scores\n",
    "\n",
    "scores = hill_climbing()"
   ]
  },
  {
   "cell_type": "markdown",
   "metadata": {},
   "source": [
    "## 4. Plot the Scores\n"
   ]
  },
  {
   "cell_type": "code",
   "execution_count": 4,
   "metadata": {},
   "outputs": [
    {
     "data": {
      "image/png": "[encoded data removed]",
      "text/plain": [
       "<Figure size 432x288 with 1 Axes>"
      ]
     },
     "metadata": {
      "needs_background": "light"
     },
     "output_type": "display_data"
    }
   ],
   "source": [
    "fig = plt.figure()\n",
    "ax = fig.add_subplot(111)\n",
    "plt.plot(np.arange(1, len(scores)+1), scores)\n",
    "plt.ylabel('Score')\n",
    "plt.xlabel('Episode #')\n",
    "plt.show()"
   ]
  },
  {
   "cell_type": "markdown",
   "metadata": {},
   "source": [
    "## Now lets dump the weights"
   ]
  },
  {
   "cell_type": "markdown",
   "metadata": {},
   "source": [
    "```python\n",
    "import pickle\n",
    "with open('hill_climbing_weight.pickle','wb') as f:\n",
    "    pickle.dump(policy.w,f)\n",
    "```    "
   ]
  },
  {
   "cell_type": "markdown",
   "metadata": {},
   "source": [
    "## Lets Load the weight"
   ]
  },
  {
   "cell_type": "code",
   "execution_count": 9,
   "metadata": {},
   "outputs": [
    {
     "name": "stdout",
     "output_type": "stream",
     "text": [
      "[[3.67007655 3.99217429]\n",
      " [3.0201702  4.78574431]\n",
      " [4.227067   5.64274125]\n",
      " [2.8429369  4.54045784]]\n"
     ]
    }
   ],
   "source": [
    "with open('hill_climbing_weight.pickle','rb') as f:\n",
    "    weight = pickle.load(f)\n",
    "print(weight)"
   ]
  },
  {
   "cell_type": "markdown",
   "metadata": {},
   "source": [
    "## Why Policy-Based Methods?\n",
    "* Simplicity \n",
    "* Stochastic Policies\n",
    "* Continuous Action Space\n",
    "\n",
    "1. __Policy__\n",
    "    - Determinisitc: $\\pi : s \\to a$\n",
    "    - Stochastic : $\\pi(s,a) = P[a|s]$\n",
    "* Formulating policy in this manner allows us to make such generalizations where possible and focus more on the complicated regions of state space.\n",
    "* One of the main advantages of policy-based methods over value-based methods is that they can learn true stochastic policies.\n"
   ]
  },
  {
   "cell_type": "markdown",
   "metadata": {},
   "source": [
    "## Alias State\n",
    "* Alias states are identical state, accroding to state feature(which can be limited, and reality are not identical) and have different optimal actions, but agent cannot differentiate between the states.\n",
    "* Best action that can be taken in these states are equiproable random action -- which value based methods are not able to do.\n",
    "* So the question is why value based methods are not good in these **alias state**?\n",
    "    * Because in value based the method; the method or technique by which we take random action is **epsilon-greedy method** and after training a value based method, our epsilon is small, becuase we can't take anymore random actions with smart agent!\n",
    "\n",
    "* So the only way to take **equiproable random actions** is through policy based methods.\n",
    "\n",
    "\n",
    "\n",
    "\n",
    "* In this example the information that agent has:\n",
    "    * smooth or rough surface\n",
    "    * side walls\n",
    "   \n",
    "<img src = \"images/a15.png\">"
   ]
  },
  {
   "cell_type": "markdown",
   "metadata": {},
   "source": [
    "## Continuous action space\n",
    "* Policy based methods are well suited for continuous action spaces.\n",
    "* When we use a value based method even with function approximator, our output consists of a value for each action. \n",
    "* Now if actin space is discrete and there are finite number of actions, we can easily pick the action with the maximum value.\n",
    "* But if action space is continuous, then this max operation turns out to be a **optimization problem itself**.\n",
    "* It like trying to find a global maximum of a continuous function which is non-trivial."
   ]
  },
  {
   "cell_type": "code",
   "execution_count": null,
   "metadata": {},
   "outputs": [],
   "source": []
  }
 ],
 "metadata": {
  "kernelspec": {
   "display_name": "drlnd",
   "language": "python",
   "name": "drlnd"
  },
  "language_info": {
   "codemirror_mode": {
    "name": "ipython",
    "version": 3
   },
   "file_extension": ".py",
   "mimetype": "text/x-python",
   "name": "python",
   "nbconvert_exporter": "python",
   "pygments_lexer": "ipython3",
   "version": "3.6.6"
  }
 },
 "nbformat": 4,
 "nbformat_minor": 2
}
