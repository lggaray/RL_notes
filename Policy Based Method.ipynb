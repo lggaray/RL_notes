{
 "cells": [
  {
   "cell_type": "markdown",
   "metadata": {},
   "source": [
    "# Introduction to Policy Based Method"
   ]
  },
  {
   "cell_type": "markdown",
   "metadata": {},
   "source": [
    "## Recap \n",
    "### Value-Based Methods:\n",
    "* Interaction $\\to$ Optimal Value Function $q_*$ $\\to$ OptimalPolicy $\\pi_*$\n",
    "\n",
    "\n",
    "* Value Function is represented in form of table, where rows corresponds to states and column corresponds to action.\n",
    "* And then we use the above table to build an optimal policy.\n",
    "\n",
    "* **BUT what about environments with much larger state space?**\n",
    "    * So we investigated how to represent the optimal action value function with a neural network which formed the basis for the deep Q learning algorithm.\n",
    "    * Input_dim : state_dim , Output_dim: action_dim\n",
    "    \n",
    "* But the important message here is that the both cases, whether we use the table for small state spaces or an neural network for much larger state spaces, we had to first **Estimate** optimal action value before we could tackle the optimal policy.\n",
    "\n",
    "## Million Dollar Question\n",
    "* Can we directly find the optimal policy without worrying about a value function at all?\n",
    "    * YES!! -- Policy-based methods.\n",
    "    "
   ]
  },
  {
   "cell_type": "markdown",
   "metadata": {},
   "source": [
    "# Policy Function Approximation"
   ]
  },
  {
   "cell_type": "markdown",
   "metadata": {},
   "source": [
    "* How might we approach this idea of estimating an optimal policy?\n",
    "    * Let's take cart pole example\n",
    "    * In this case agent has **two** possible action and dimension of state space is **four**.\n",
    "    * It can push the cart either left or right.\n",
    "    * At each time step agents picks one of two actions.\n",
    "    * And we can construct a neural network that **approximates** the policy, that accepts the state as input.\n",
    "    * As output, it can return the probability that the agent selects each possible action.\n",
    "    * So if there are two possible actions, the output layer will have two nodes.\n",
    "    * The agent uses this policy to interact with the environment by just passing the most recent state to the network.\n",
    "    * It outputs the action probability and then the agent samples from those probabilities to select an action in response.\n",
    "* Our objective then is to determine appropriate values for the network weights so that for each state that we pass into the network it returns the **Action probabilities** where the optimal action is most likely selected.\n",
    "* This will help agent with its goal to maximize expected return.\n",
    "\n",
    "\n",
    "\n",
    "* This is an iterative process where weights are initially set to the random values.\n",
    "* Then, as the agent interacts with the environment and learns more about the strategies are best for maximizing reward."
   ]
  },
  {
   "cell_type": "markdown",
   "metadata": {},
   "source": [
    "## More on the Policy\n",
    "* The agent can use a simple neural network architecture to approximate a **Stochastic policy**. The agent passes the current environment state as input to the network, ehich returns action probabilities. Then, the agent samples from those probabilities to select an action.\n",
    "* The same neural network architecture can be used to approximate a **Deterministic policy**. Instead of sampling from the action probabilities, the agent need only choose the greedy action.\n",
    "* **SOFTMAX** as output activation function."
   ]
  },
  {
   "cell_type": "markdown",
   "metadata": {},
   "source": [
    "## What about continuous action spaces?\n",
    "*** \n",
    "The CartPole environment has a discrete action space. So, how do we use a neural network to approximate a policy, if the environment has a continuous action space?\n",
    "\n",
    "As we have learned, in the case of **discrete** action spaces, the neural network has one node for each possible action.\n",
    "\n",
    "For **continuous** action spaces, the neural network has one node for each action entry (or index). For example, consider the action space of the **bipedal walker** environment.\n",
    "<img src = \"./images/a14.png\">\n",
    "In this case, any action is a vector of four numbers, so the output layer of the policy network will have four nodes.\n",
    "\n",
    "Since every entry in the action must be a number between -1 and 1, we will add a tanh activation function to the output layer.\n",
    "\n",
    "In `MountainCarContinuous-v0` environment. The Layer size 1, Activation function: tanh"
   ]
  },
  {
   "cell_type": "markdown",
   "metadata": {},
   "source": [
    "# Hill Climbing\n",
    "* So remember that the agent goal is always to **maximize expected return**.\n",
    "* Let's denote the expected return as $J$.\n",
    "* And weights in NeuralNetwork as $\\theta$.\n",
    "* And there's some mathematical relationship between $\\theta$ and the expected return $J$.\n",
    "* This is because $\\theta $ encodes the policy which makes some action more likely than others, and depending on action that influences the reward and then we sum up the rewards to get the return.\n",
    "* The main idea is that it's possible to write the expected return $J$ as the function of $\\theta$ for e.g. $J = F(\\theta)$.\n",
    "> $J(\\theta) = \\sum_{\\tau} P(\\tau;\\theta)R(\\tau)$\n",
    "<br>$\\sum_{\\tau} P(\\tau;\\theta)R(\\tau)$ = Expected value of reward across $\\tau$ timesteps, Expected value of a probability distribution is summation of probability of each sample in that distribution times(product) value of that sample.\n",
    "\n",
    "* And we want to optimize the values of $\\theta$ such that it **maximizes the EXPECTED RETURN** $J$.\n",
    "\n",
    "### Hill Climbing\n",
    "* We begin with an initially random set of weights $\\theta$.We collect a single **episode** with the policy that corresponds to those weights and then record the return.\n",
    "* This return is an estimate of what the surface looks like at that value of $\\theta$.\n",
    "* Now it's not going to be a perfect estimate because the return we just collected is unlike to be equal to the expected return, but in practice the estimates often turns out to be good enough.\n",
    "* Then we add little bit of noise to those weights to give us another set of candidate weights we can try.\n",
    "* **To see how good those new weights are, we'll use the policy that they give us to again iteract with the environment for an episode and add up the return.**\n",
    "* In up the new weights, give us __more__ return than our current best estimate, we focus our attention on that new value, and then we just repeat by iteratively proposing new policies in the hope that they outperform the existing policy.\n",
    "* In the event that they don't we go back to our previous best policy.\n",
    "\n",
    "### Working of the process\n",
    "* Consider the case that the neural network has only two weights.\n",
    "* The agent's goal is to maximize expected return $J$.\n",
    "* The weights in the neural network are $\\theta = (\\theta_0,\\theta_1)$\n",
    "* Then we can plot the expected return $J$ as a function of the values of both weights.\n",
    "\n",
    "* Once we get that function we can optimize our $\\theta$ values so that we can maximize the expected return function $J$.\n",
    "\n",
    "#### Gradient Ascent\n",
    "* **Gradient ascent** is similar to gradient descent.\n",
    "    * Gradient descent steps in the **direction opposite the gradient**, since it wants to minimize a function.\n",
    "    * Gradient ascent is otherwise identical, expcept we step in the **direction of the gradient**, to reach the maximum.\n",
    "    \n",
    "#### Local Minima \n",
    "In the video above, we learned that **hill climbing** is relatively simple algorithm that the agent can use to gradually improve the weights $\\theta$ in its policy network while interacting with environment.\n",
    "\n",
    "Note however, that it's **not** guaranteed to always yield the weights of the optimal policy. This is because we can easily get stuck in a local maximum. In this lesson, we'll learn about some policy-based methods that are less prone to this.\n"
   ]
  },
  {
   "cell_type": "markdown",
   "metadata": {},
   "source": [
    "## Hill Climbing Pseudocode\n",
    "* Initialize the weights $\\theta$ in the policy arbitrarily.\n",
    "* Collect an episode with $\\theta$, and record the return $G$.\n",
    "* $\\theta_{best} \\gets \\theta; G_{best} \\gets G$\n",
    "* Add a little bit of random noise to $\\theta_{best}$, to get a new set of weights $\\theta_{new}$.\n",
    "* Collect an episode with $\\theta_{new}$, and record the return $G_{new}$\n",
    "* if $G_{new} > G_{best}$ then :\n",
    "    * $G_{best} \\gets G_{new}$, $\\theta_{best} \\gets \\theta_{new}$\n",
    "* And repeat until we get optimal policy.\n",
    "\n",
    "\n",
    "### What's the difference between G and J?\n",
    "Well .. in reinforcement learning, the goal of the agent is to find the value of the policy network weights $\\theta$ that maximizes **expected** return, which we have denoted by $J$.\n",
    "\n",
    "In the hill climbing algorithm, the values of $\\theta$ are evaluated according to how much return $G$ they collected in a **single episode**. To see that this might be a little bit strange, note that due to randomness in the environment (and the policy, if it is stochastic), it is highly likely that if we collect a second episode with the same values for $\\theta$ we'll likely get a different value for the return $G$. Because of this, the (sampled) return $G$ is not perfect estimate for the expected return $J$, but it often turns out to be **good enough** in practice.\n",
    "    "
   ]
  },
  {
   "cell_type": "markdown",
   "metadata": {},
   "source": [
    "## Beyond Hill Climbing \n",
    "\n",
    "We denoted the expected return by $J$. Likewise, we used $\\theta$ to refer to weights in the policy network. Then, since $\\theta$ encodes the policy, which influences how much reward the agent will likely receive, we know that $J$ is a function of $\\theta$.\n",
    "\n",
    "Despite the fact that we have no idea what that function $J = J(\\theta)$ looks like, the *hill climbing* algorithm helps us determine the value of $\\theta$ that maximizes it.\n",
    "\n",
    "## Note\n",
    "We refer to the general class of approaches that find $arg\\ max_{\\theta} J(\\theta)$ through randomly pertubring the most recent best estimate as **stochastic policy search.**. Likewise, we can refer to $J$ as an **objective function**, which just refers to the fact that we'd like to *maximize it*!\n",
    "\n",
    "\n",
    "### Improvements in Hill Climbing algorithm\n",
    "* One small improvement to this approach is to choose a small number of neighboring policies at each iteration and pick the best among a small number of neighboring policies at each iteration and pick the best among them.\n",
    "* Generate a few candidate policies by perturbing the parameters randomly and evaluate each policy by iterating with environment. \n",
    "* This give us an idea of the **neighborhood** of the current policy.\n",
    "* Now pick the candidate policy that looks most promising and iterate.\n",
    "* This variation is known as **steepest ascent hill climbing** and it helps to reduce the risk of selecting a next policy that may lead to suboptimal solution.\n",
    "\n",
    "## Stimulated Annealing \n",
    "* Stimulated annealing uses a predefined schedule to control how the policy space is explored.\n",
    "* Starting with a large noise parameter, that is broad neighborhood to explore, we gradually reduce the noise or radius as we get closer and closer to the optimal solution.\n",
    "\n",
    "\n",
    "## Adaptive Noise (Scaling)\n",
    "* Whenever we find a better policy than before, we're likely getting closer to the optimal policy.\n",
    "* This translate to reducing or decaying the variance of the Gaussian noise we add.\n",
    "* But if we don't find a better policy it's probably a good idea to increase our search radius and continue exploring from the current best policy.\n",
    "* This small tweak to stochastic policy makes it much less likely to get stuck, especially in domains with a complicated objective function."
   ]
  },
  {
   "cell_type": "markdown",
   "metadata": {},
   "source": [
    "## More Black-Box Optimization\n",
    "\n",
    "All algorithms that we've learned about in this lesson can be classified as **black box optimization** techniques.\n",
    "\n",
    "**Black-box** refers to the fact that in order to find the value of $\\theta$ that maximizes the function $J = J(\\theta)$, we need only to estimate the value of $J$ at any potential value of $\\theta$.\n",
    "\n",
    "That is, both hill climbing and steepest ascent hill climbing don't know that we're solving a reinforcement learning problem, and they don not care that the function we're trying to maximize corresponding to the expected return.\n",
    "\n",
    "These algorithm only know that for each value of $\\theta$, there's corresponding to $\\theta$ to collect an episode, but the algorithm are not aware of this. To these algorithms, the way we evaluate $\\theta$ is considered a black box, and they don't worry about the details. The algorithms only care about finding the value of $\\theta$ that will maximize the number comes out of the black box.\n",
    "\n"
   ]
  },
  {
   "cell_type": "markdown",
   "metadata": {},
   "source": [
    "## Cross-Entropy method\n",
    "* Hill climbing begins with a best guess for the weights, then it adds a little bit of noise to propose one new policy that might perfrom better.\n",
    "* **Steepest-ascent Hill climbing**, does a little bit more work by generating several neighboring policies at each iteration.\n",
    "* But in both cases, only the best policy prevails.\n",
    "* In **Steepest-ascent Hill climbing** there's a lot of useful information that we're **throwing** out.\n",
    "* Now we'learn about some methods that leverage useful information from the weights that aren't selected as best.\n",
    "#### The process\n",
    "* So what if, instead of selecting only the best policy, we selected the top 10 or 20 percent of them, and took the average?\n",
    "* This what the **Cross -Entropy Method** does.\n",
    "## Evolution Strategies\n",
    "* Another approach is to look at the return that was collected by __each__ candidate policy.\n",
    "* The best policy will be the **Weighted** sum of all of these, where poicies that got higher return, are given more say or get higher weight.\n",
    "* This technique is called **Evolution Strategies**\n",
    "#### Background of evolution strategies\n",
    "* The name originally comes form the idea of biological evolution, where the idea is that the most successful individuals in the policy population, will have the most influence on the next generation or iteration.\n",
    "* Evolution strategies as just another black box optimization technique."
   ]
  },
  {
   "cell_type": "code",
   "execution_count": null,
   "metadata": {},
   "outputs": [],
   "source": []
  }
 ],
 "metadata": {
  "kernelspec": {
   "display_name": "Python 3",
   "language": "python",
   "name": "python3"
  },
  "language_info": {
   "codemirror_mode": {
    "name": "ipython",
    "version": 3
   },
   "file_extension": ".py",
   "mimetype": "text/x-python",
   "name": "python",
   "nbconvert_exporter": "python",
   "pygments_lexer": "ipython3",
   "version": "3.6.5"
  }
 },
 "nbformat": 4,
 "nbformat_minor": 2
}
