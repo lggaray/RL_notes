{
 "cells": [
  {
   "cell_type": "markdown",
   "metadata": {},
   "source": [
    "# Reinforcement Learning: Framework\n",
    "* Markov Decision Process (MDP): $(S,A,P,R,\\gamma)$\n",
    "* State Transition and Reward Model: $P(S_{t+1},R_{t+1}|S_t,A_t)$\n",
    "* State Value Function: V(S)\n",
    "* Action value Function: Q(S,A)\n",
    "* Goal : Find optimal policy $\\pi_*$ that maximizes total expected reward.\n"
   ]
  },
  {
   "cell_type": "markdown",
   "metadata": {},
   "source": [
    "# Reinforcement Learning: Algorithms\n",
    "* __Model-Based Learning (Dynamic Programming)__\n",
    "    * Policy Iteration\n",
    "    * Value Iteration\n",
    "    <br>**(Requires a know transition and reward model.)**\n",
    "* __Model-Free Learning__ \n",
    "    * Monte Carlo Methods\n",
    "    * Temporal-Difference Learning\n",
    "    <br>**(They sample the environment by carrying exploration actions and use the experience gained to directly estimate value functions)**\n",
    "    "
   ]
  },
  {
   "cell_type": "markdown",
   "metadata": {},
   "source": [
    "# Discrete vs. Continuous Spaces\n",
    "* States, Action: finite!!\n",
    "* If action and state space is discrete than we can map them in Q table and then can have optimal policy.\n",
    "\n",
    "$V: S \\to R$ (STATE VALUE Function)\n",
    "<br>$Q: S \\times A \\to R$(Action value function)\n",
    "\n",
    "For example in Q-Learning when we find maxQ\\[state\\] we assume the action space to be discrete.\n",
    "\n",
    "In real world we don't have discrete world like grid space, it's continuous.\n",
    "\n",
    "### Dealing with Continuous Spaces\n",
    "1. Discretization\n",
    "2. Function Approximation\n",
    "\n",
    "\n",
    "* **Discretization**: Is basically converting a continuous space into a discrete one.\n",
    "\n",
    "* __Non-Uniform Discretization__: Depends on the environment, basic idea is to recognize area with more precision where attention is required.\n",
    "* And we don't want to have smaller grid through out the space because, it will increase the number state spaces and hence computation.\n",
    "* __Read about BINARY SPACE PARTITIONING OR QUAD TREES__"
   ]
  },
  {
   "cell_type": "markdown",
   "metadata": {},
   "source": [
    "# Discretization\n",
    "***\n",
    "\n",
    "In this notebook, we will deal with continuous state and action spaces by discretizing them. This will enable us to apply reinforcement learning algorithms that ae only desingned to work with discrete spaces.\n",
    "\n",
    "### 1. Import the Necessary Packages"
   ]
  },
  {
   "cell_type": "code",
   "execution_count": null,
   "metadata": {},
   "outputs": [],
   "source": [
    "import sys\n",
    "import gym\n",
    "import numpy as np\n",
    "\n",
    "import pandas as pd\n",
    "import matplotlib.pyplot as plt\n",
    "\n",
    "# Set plotting options \n",
    "%matplotlib inline \n",
    "plt.style.use('ggplot')\n",
    "np.set_printoptions(precision=3, linewidth=120)\n",
    "\n",
    "!python -m pip install pyvirtualdisplay\n",
    "from pyvirtualdisplay import Display\n",
    "display = Display(visible=0, size = (1400, 900))\n",
    "\n",
    "is_python = 'inline' in plt.get_backend()\n",
    "if is_python:\n",
    "    from IPython import display\n",
    "\n",
    "plt.ion()"
   ]
  },
  {
   "cell_type": "markdown",
   "metadata": {},
   "source": [
    "## 2. Specify the Environment, and Explore the State and Action Spaces\n",
    "We'll use OpenAI Gym environments to test and develop our algorithms. These simulate a variety of classic as well as contemporary reinforcement learning tasks. Let's use an environment that has a continuous state space, but a discrete action space. "
   ]
  },
  {
   "cell_type": "code",
   "execution_count": null,
   "metadata": {},
   "outputs": [],
   "source": [
    "# Create an environment and set random seed\n",
    "env = gym.make('MountainCar-v0')\n",
    "env.seed(505);"
   ]
  },
  {
   "cell_type": "code",
   "execution_count": null,
   "metadata": {},
   "outputs": [],
   "source": [
    "state = env.reset()\n",
    "img = plt.imshow(env.render(mode='rgb_array'))\n",
    "for t in range(1000):\n",
    "    action = env.action_space.sample()\n",
    "    img.set_data(env.render(mode='rgb_array'))\n",
    "    plt.axis('off')\n",
    "    display.display(plt.gcf())\n",
    "    display.clear_output(wait=True)\n",
    "    state,reward,done,_ = env.step(action)\n",
    "    if done:\n",
    "        print('Score: ', t+1)\n",
    "        break\n",
    "\n",
    "env.close()"
   ]
  },
  {
   "cell_type": "code",
   "execution_count": null,
   "metadata": {},
   "outputs": [],
   "source": [
    "# Explore state (observation) space\n",
    "print(\"State space:\", env.observation_space)\n",
    "print(\"-low:\", env.observation_space.low)\n",
    "print(\"-high:\",env.observation_space.high)"
   ]
  },
  {
   "cell_type": "code",
   "execution_count": null,
   "metadata": {},
   "outputs": [],
   "source": [
    "#Generate some samples from the state space\n",
    "print(\"State space samples:\")\n",
    "print(np.array([env.observation_space.sample() for i in range(10)]))\n"
   ]
  },
  {
   "cell_type": "code",
   "execution_count": null,
   "metadata": {},
   "outputs": [],
   "source": [
    "#Explore the action space\n",
    "print(\"Action space:\", env.action_space)\n",
    "\n",
    "#Generate some samples from the action space\n",
    "print(\"Action space samples:\")\n",
    "print(np.array([env.action_space.sample() for i in range(10)]))"
   ]
  },
  {
   "cell_type": "markdown",
   "metadata": {},
   "source": [
    "## 3. Discrete the State Space with a Uniform Grid\n",
    "\n",
    "We will discretize the space using a uniformly-spaced grid. Implemented the following function to create such a grid, given the lower bounds(`low`), upper bounds (`high`), and number of desired `bins` along each dimension. It should return the split points for each dimension, which will be 1 less than the number of bins.\n",
    "\n",
    "For instance, if `low = [-1.0, 5.0]`,`high = [1.0,5.0]` and `bins = (10,10)`, then your function should return following list of 2 NumPy arrays:\n",
    "\n",
    "```\n",
    "[array([-0.8, -0.6, -0.4, -0.2, 0.0, 0.2, 0.4, 0.6, 0.8]),\n",
    " array([-4.0, -3.0, -2.0, -1.0, 0.0, 1.0, 2.0, 3.0, 4.0])]\n",
    "```\n",
    "\n",
    "Note that the ends of `low` and `high` are **not** inculded in these split points. It is assumed that any value below the lowest split maps to index `0` and any value above the highest split point maps to index `n-1`, where `n` is the number of bins along the dimension."
   ]
  },
  {
   "cell_type": "code",
   "execution_count": 53,
   "metadata": {},
   "outputs": [
    {
     "data": {
      "text/plain": [
       "array([-1.0, -0.8, -0.6, -0.4, -0.2, -0.0, 0.2, 0.4, 0.6, 0.8])"
      ]
     },
     "execution_count": 53,
     "metadata": {},
     "output_type": "execute_result"
    }
   ],
   "source": [
    "#np.set_printoptions(precision=0, linewidth=120)\n",
    "np.set_printoptions(formatter={'float': lambda x: \"{0:0.1f}\".format(x)})\n",
    "(np.arange(-1.0,1.0,0.2))"
   ]
  },
  {
   "cell_type": "code",
   "execution_count": 11,
   "metadata": {},
   "outputs": [
    {
     "data": {
      "text/plain": [
       "[array([-0.8, -0.6, -0.4, -0.2, -0.0, 0.2, 0.4, 0.6, 0.8]),\n",
       " array([-4.0, -3.0, -2.0, -1.0, 0.0, 1.0, 2.0, 3.0, 4.0])]"
      ]
     },
     "execution_count": 11,
     "metadata": {},
     "output_type": "execute_result"
    }
   ],
   "source": [
    "import numpy as np\n",
    "def create_uniform_grid(low, high, bins=(10, 10)):\n",
    "    \"\"\"Define a uniformly-spaced grid that can be used to discretize a space.\n",
    "    \n",
    "    Parameters\n",
    "    ----------\n",
    "    low : array_like\n",
    "        Lower bounds for each dimension of the continuous space.\n",
    "    high : array_like\n",
    "        Upper bounds for each dimension of the continuous space.\n",
    "    bins : tuple\n",
    "        Number of bins along each corresponding dimension.\n",
    "    \n",
    "    Returns\n",
    "    -------\n",
    "    grid : list of array_like\n",
    "        A list of arrays containing split points for each dimension.\n",
    "    \"\"\"\n",
    "    # TODO: Implement this\n",
    "    ls = []\n",
    "    low_x,low_y=low\n",
    "    high_x,high_y = high\n",
    "    diff_x = (high_x-low_x)/bins[0]\n",
    "    diff_y = (high_y-low_y)/bins[1]\n",
    "    ls.append(np.arange(low_x,high_x,diff_x)[1:])\n",
    "    ls.append(np.arange(low_y,high_y,diff_y)[1:])\n",
    "    return ls\n",
    "\n",
    "np.set_printoptions(formatter={'float': lambda x: \"{0:0.1f}\".format(x)})\n",
    "low = [-1.0, -5.0]\n",
    "high = [1.0, 5.0]\n",
    "create_uniform_grid(low, high)  # [test]"
   ]
  },
  {
   "cell_type": "code",
   "execution_count": 12,
   "metadata": {},
   "outputs": [
    {
     "name": "stdout",
     "output_type": "stream",
     "text": [
      "\n",
      "Samples:\n",
      "array([[-1.0, -5.0],\n",
      "       [-0.8, -4.1],\n",
      "       [-0.8, -4.0],\n",
      "       [-0.5, 0.0],\n",
      "       [0.2, -1.9],\n",
      "       [0.8, 4.0],\n",
      "       [0.8, 4.1],\n",
      "       [-0.5, -0.0]])\n",
      "\n",
      "Discretized samples:\n",
      "array([[0, 0],\n",
      "       [0, 0],\n",
      "       [1, 1],\n",
      "       [2, 5],\n",
      "       [6, 3],\n",
      "       [9, 9],\n",
      "       [9, 9],\n",
      "       [2, 5]])\n"
     ]
    }
   ],
   "source": [
    "def discretize(sample, grid):\n",
    "    \"\"\"Discretize a sample as per given grid.\n",
    "    \n",
    "    Parameters\n",
    "    ----------\n",
    "    sample : array_like\n",
    "        A single sample from the (original) continuous space.\n",
    "    grid : list of array_like\n",
    "        A list of arrays containing split points for each dimension.\n",
    "    \n",
    "    Returns\n",
    "    -------\n",
    "    discretized_sample : array_like\n",
    "        A sequence of integers with the same number of dimensions as sample.\n",
    "    \"\"\"\n",
    "    # TODO: Implement this\n",
    "    x = np.digitize(sample[0],grid[0])\n",
    "    y = np.digitize(sample[1],grid[1])\n",
    "    return x,y\n",
    "\n",
    "\n",
    "# Test with a simple grid and some samples\n",
    "grid = create_uniform_grid([-1.0, -5.0], [1.0, 5.0])\n",
    "samples = np.array(\n",
    "    [[-1.0 , -5.0],\n",
    "     [-0.81, -4.1],\n",
    "     [-0.8 , -4.0],\n",
    "     [-0.5 ,  0.0],\n",
    "     [ 0.2 , -1.9],\n",
    "     [ 0.8 ,  4.0],\n",
    "     [ 0.81,  4.1],\n",
    "     [ -0.5 ,  -0.0]])\n",
    "discretized_samples = np.array([discretize(sample, grid) for sample in samples])\n",
    "print(\"\\nSamples:\", repr(samples), sep=\"\\n\")\n",
    "print(\"\\nDiscretized samples:\", repr(discretized_samples), sep = \"\\n\")"
   ]
  },
  {
   "cell_type": "markdown",
   "metadata": {},
   "source": [
    "## 4. Visualization\n",
    "It might be helpful to visualize the original and discretized samples to get a sense of how much error we are introducing."
   ]
  },
  {
   "cell_type": "code",
   "execution_count": 275,
   "metadata": {},
   "outputs": [
    {
     "data": {
      "image/png": "[encoded data removed]",
      "text/plain": [
       "<Figure size 720x720 with 1 Axes>"
      ]
     },
     "metadata": {},
     "output_type": "display_data"
    }
   ],
   "source": [
    "import matplotlib.collections as mc\n",
    "\n",
    "def visualize_samples(samples, discretized_samples, grid, low=None,high=None):\n",
    "    \"\"\"Visualize original and discretized samples on a given  2-dimensional grid.\"\"\"\n",
    "    \n",
    "    fig,ax = plt.subplots(figsize=(10,10))\n",
    "    \n",
    "    # Show grid\n",
    "    ax.xaxis.set_major_locator(plt.FixedLocator(grid[0]))\n",
    "    ax.yaxis.set_major_locator(plt.FixedLocator(grid[1]))\n",
    "    ax.grid(True)\n",
    "    \n",
    "    # If bounds (low, high) are specified, use them to set axis limits\n",
    "    if low is not None and high is not None:\n",
    "        ax.set_xlim(low[0], high[0])\n",
    "        ax.set_ylim(low[1], high[1])\n",
    "    else:\n",
    "        # Otherwise use first, last grid locations as low, high (for further mapping discretized samples)\n",
    "        low = [splits[0] for splits in grid]\n",
    "        high = [splits[-1] for splits in grid]\n",
    "    \n",
    "    # Map each discretized sample (which is really an index) to the center of corresponding grid cell\n",
    "    grid_extended = np.hstack((np.array([low]).T, grid, np.array([high]).T))  # add low and high ends\n",
    "    grid_centers = (grid_extended[:, 1:] + grid_extended[:, :-1]) / 2  # compute center of each grid cell\n",
    "    locs = np.stack(grid_centers[i, discretized_samples[:, i]] for i in range(len(grid))).T  # map discretized samples\n",
    "\n",
    "    ax.plot(samples[:, 0], samples[:, 1], 'o')  # plot original samples\n",
    "    ax.plot(locs[:, 0], locs[:, 1], 's')  # plot discretized samples in mapped locations\n",
    "    ax.add_collection(mc.LineCollection(list(zip(samples, locs)), colors='orange'))  # add a line connecting each original-discretized sample\n",
    "    ax.legend(['original', 'discretized'])\n",
    "\n",
    "import matplotlib.pyplot as plt    \n",
    "visualize_samples(samples, discretized_samples, grid, low, high)"
   ]
  },
  {
   "cell_type": "code",
   "execution_count": null,
   "metadata": {},
   "outputs": [],
   "source": [
    "# Create a grid discretize the state space\n",
    "state_grid = create_uniform_grid(env.observation_space.low, env.observation_space.high, bins=(10,10))\n",
    "state_grid"
   ]
  },
  {
   "cell_type": "code",
   "execution_count": null,
   "metadata": {},
   "outputs": [],
   "source": [
    "#Obtain some samples from the space, discretize them,and then visualize them\n",
    "state_samples = np.array([env.observation_space.sample() for i in range(10)])\n",
    "discretized_state_samples = np.array([discretize(sample, state_grid) for sample in state_samples])\n",
    "visualize_samples(state_samples, discretized_state_samples, state_grid,\n",
    "                  env.observation_space.low, env.observation_space.high)\n",
    "plt.xlabel('position');plt.ylabel('velocity');"
   ]
  },
  {
   "cell_type": "markdown",
   "metadata": {},
   "source": [
    "You might notice that if we have enough bins, the discretization doesn't introduce too much error into our representation. So we may be able to now apply reinforcement learning algorithm(like Q Learning) that operates on discrete spaces. Given it a shot to see how well it works!"
   ]
  },
  {
   "cell_type": "markdown",
   "metadata": {},
   "source": [
    "## 5. Q-Learning \n",
    "Provided below is a simple Q-Learning agent. Implement the `preprocess_state()` method to convert each continuous state sample to its corresponding discretized representation."
   ]
  },
  {
   "cell_type": "code",
   "execution_count": null,
   "metadata": {},
   "outputs": [],
   "source": [
    "def QLearningAgent():\n",
    "    \"\"\"Q-Learning agent that can act on a continuous state space by discretizing it\"\"\"\n",
    "    \n",
    "    def __init__(self,env,state_grid,alpha=0.02,gamma=0.99,\n",
    "                epsilon=1.0,epsilon_decay_rate = 0.9995, min_epsilon=.01,seed=505):\n",
    "        \"\"\"Initialize variables, create grid for discretization.\"\"\"\n",
    "        ## Environment info\n",
    "        self.env = env\n",
    "        self.state_grid = state_grid\n",
    "        ## FOr n dimensional state space\n",
    "        self.state_size = tuple(len(splits)+1 for splits in self.state_grid)\n",
    "        self.action_size = self.env.action_space.n # 1-dimensional discrete action space\n",
    "        self.seed = np.random.seed(seed)\n",
    "        print(\"Environment:\", self.env)\n",
    "        print(\"State space size:\",self.state_size)\n",
    "        \n",
    "        ## Learning parameters\n",
    "        self.alpha = alpha # learning rate\n",
    "        self.gamma = gamma # discount factor\n",
    "        self.epsilon = self.initial_epsilon=epsilon # initial exploration rate\n",
    "        self.epsilon_decay_rate = epsilon_decay_rate # how quickly it will decay\n",
    "        self.min_epsilon= min_epsilon\n",
    "        \n",
    "        # Create Q-table\n",
    "        self.q_table = np.zeros(shape=(self.state_size + (self.action_size,)))\n",
    "        print(\"Q table size:\", self.q_table.shape)\n",
    "        \n",
    "    def preprocess_state(self,state):\n",
    "        \"\"\"Map a continuous state to its discretized representation.\"\"\"\n",
    "        discretize_state = tuple(discretize(state,self.state_grid))\n",
    "        return discretize_state\n",
    "    \n",
    "    def reset_episode(self, state):\n",
    "        \"\"\"Reset variables for a new episode.\"\"\"\n",
    "        # Gradually decrease exploration rate\n",
    "        self.epsilon *= self.epsilon_decay_rate\n",
    "        self.epsilon = max(self.epsilon,self.min_epsilon)\n",
    "        \n",
    "        # Decide inital action\n",
    "        self.last_state = self.preprocess_state(state)\n",
    "        self.last_action = np.argmax(self.q_table[self.last_state])\n",
    "        return self.last_action\n",
    "    \n",
    "    def reset_exploration(self, epsilon=None):\n",
    "        \"\"\"Reset exploration rate used when training.\"\"\"\n",
    "        self.epsilon=epsilon if epsilon is not None else self.initial_epsilon\n",
    "        \n",
    "    def act(self,state,reward=None,done=None,mode=\"train\"):\n",
    "        \"\"\"Pick next action and update internal Q table (when mode != 'test')\"\"\"\n",
    "        state = self.preprocess_state(state)\n",
    "        if mode =='test':\n",
    "            # Test mode: Simply produce an action\n",
    "            action = np.argmax(self.q_table[state])\n",
    "        else:\n",
    "            # Train mode (default): Update Q table, pick next action\n",
    "            # Note: We update the Q table entry for the *last* (state,action) pair with current state,reward\n",
    "            self.q_table[self.last_state+(self.last_action,)] += self.alpha* \\\n",
    "            (reward+ self.gamma*max(self.q_table[state])-self.q_table[self.last_state+(self.last_action,)])\n",
    "            \n",
    "            \n",
    "            # Exploration vs. exploitation\n",
    "            do_exploration = np.random.uniform(0,1)< self.epsilon\n",
    "            if do_exploration:\n",
    "                # Pick a random action\n",
    "                action = np.random.randint(0,self.action_size)\n",
    "            else:\n",
    "                # Pick the best action from Q table \n",
    "                action = np.argmax(self.q_table[state])\n",
    "        \n",
    "        # Roll over current state, action for next stepa\n",
    "        self.last_state = state\n",
    "        self.last_action =action\n",
    "        return action\n",
    "    \n",
    "    \n",
    "q_agent = QLearningAgent(env, state_grid)\n",
    "            \n",
    "        \n",
    "        \n",
    "        "
   ]
  },
  {
   "cell_type": "markdown",
   "metadata": {},
   "source": [
    "Let's also define a convenience function to run an agent on a given environment. When calling this function, we can pass in `mode = 'test'` to tell the agent not to learn."
   ]
  },
  {
   "cell_type": "code",
   "execution_count": null,
   "metadata": {},
   "outputs": [],
   "source": [
    "def run(agent, env, num_episodes=20000, mode='train'):\n",
    "    \"\"\"Run agent in given reinforcement learning environment and return scores.\"\"\"\n",
    "    scores = []\n",
    "    max_avg_score = -np.inf\n",
    "    for i_episode in range(1, num_episodes+1):\n",
    "        # Initialize episode\n",
    "        state = env.reset()\n",
    "        action = agent.reset_episode(state)\n",
    "        total_reward = 0\n",
    "        done= False\n",
    "        \n",
    "        # Roll out steps until done\n",
    "        while not done:\n",
    "            state, reward, done, info = env.step(action)\n",
    "            total_reward += reward\n",
    "            action = agent.act(state, reward, done, mode)\n",
    "            \n",
    "        # Save final score\n",
    "        scores.append(total_reward)\n",
    "        \n",
    "        #Print episode stats\n",
    "        if mode == 'train':\n",
    "            if len(scores)>100:\n",
    "                avg_score = np.mean(scores[-100:])\n",
    "                if avg_score > max_avg_score:\n",
    "                    max_avg_score = avg_score\n",
    "                    \n",
    "            if i_episode % 100 ==0:\n",
    "                print(\"\\rEpisode {}/{} | Max Average Score: {}\".format(i_episode,num_episodes,max_avg_score), end=\"\")\n",
    "                sys.stdout.flush()\n",
    "                \n",
    "    return scores\n",
    "scores = run(q_agent,env)"
   ]
  },
  {
   "cell_type": "markdown",
   "metadata": {},
   "source": [
    "The best way to analyze if our agent was learning the task is to plot the scores. It should generally increase as the agent goes through more episodes."
   ]
  },
  {
   "cell_type": "code",
   "execution_count": null,
   "metadata": {},
   "outputs": [],
   "source": [
    "# Plot scores obtained per episode \n",
    "plt.plot(scores); plt.title(\"Scores\");"
   ]
  },
  {
   "cell_type": "markdown",
   "metadata": {},
   "source": [
    "If the scores are noisy, it might be difficult to tell whether our agent is actually learning. To find the underlying trend, we may want to plot a rolling mean of the scores. Let's write a convenience function to plot both row scores as well as a rolling mean."
   ]
  },
  {
   "cell_type": "code",
   "execution_count": null,
   "metadata": {},
   "outputs": [],
   "source": [
    "def plot_scores(scores, rolling_window=100):\n",
    "    \"\"\"Plot scores and optional rolling mean using specified window.\"\"\"\n",
    "    plt.plot(scores);plt.title(\"Scores\");\n",
    "    rolling_mean = pd.Series(scores).rolling(rolling_window).mean()\n",
    "    plt.plot(rolling_mean);\n",
    "    return rolling_mean\n",
    "rolling_mean = plot_scores(scores)"
   ]
  },
  {
   "cell_type": "markdown",
   "metadata": {},
   "source": [
    "We should observe the mean of episode scores go up over time. Next, we can freeze learning and run the agent in test mode to see how well it performs."
   ]
  },
  {
   "cell_type": "code",
   "execution_count": null,
   "metadata": {},
   "outputs": [],
   "source": [
    "# Run in test mode and analyze scores obtained\n",
    "test_scores = run(q_agent, env, num_episodes=100, mode='test')\n",
    "print(\"[TEST] Completed {} episodes with avg. scores = {}\".format(len(test_scores),np.mean(test_scores)))\n",
    "_ = plot_scores(test_scores, rolling_window = 10)"
   ]
  },
  {
   "cell_type": "markdown",
   "metadata": {},
   "source": [
    "It's also interesting to look at the final Q-table that is learned  by the agent. Note that the Q-table is of size $M\\times N \\times A$, where $(M,N)$ is the size of the state space, and $A$ is the size of the action space. We are intrested in the maximum Q-value for each state, and corresponding (best) action associated with that value."
   ]
  },
  {
   "cell_type": "code",
   "execution_count": null,
   "metadata": {},
   "outputs": [],
   "source": [
    "def plot_q_table(q_table):\n",
    "    \"\"\"Visualize max Q-value for each state and corresponding action.\"\"\"\n",
    "    q_image = np.max(q_table,axis=2)  # max Q-value for each state\n",
    "    q_actions = np.argmax(q_table,axis=2) # max action for each state\n",
    "    \n",
    "    fig,ax = plt.subplots(figsize=(10,10))\n",
    "    cax = ax.imshow(q_image, cmap = 'jet');\n",
    "    cbar = fig.colorbar(cax)\n",
    "    for x in range(q_image.shape[0]):\n",
    "        for y in range(q_image.shape[1]):\n",
    "            ax.text(x,y,q_actions[x,y],color=\"white\",\n",
    "                   horizontalalignment='center', verticalalignment='center')\n",
    "    ax.grid(False)\n",
    "    ax.set_title(\"Q-table, size: {}\".format(q_table.shape))\n",
    "    ax.set_xlabel('position')\n",
    "    ax.set_ylabel('velocity')\n",
    "    \n",
    "plot_q_table(q_agent.q_table)"
   ]
  },
  {
   "cell_type": "markdown",
   "metadata": {},
   "source": [
    "# 7. Watch a Smart Agent"
   ]
  },
  {
   "cell_type": "code",
   "execution_count": null,
   "metadata": {},
   "outputs": [],
   "source": [
    "state = env.reset()\n",
    "score = 0\n",
    "img = plt.imshow(env.render(mode='rgb_array'))\n",
    "for t in range(1000):\n",
    "    action = q_agent_new.act(state, mode='test')\n",
    "    img.set_data(env.render(mode='rgb_array'))\n",
    "    plt.axis('off')\n",
    "    display.display(plt.gcf())\n",
    "    display.clear_output(wait=True)\n",
    "    state, reward,done,_ = env.step(action)\n",
    "    score += reward\n",
    "    if done:\n",
    "        print(\"Score: \",score)\n",
    "        break\n",
    "env.close()"
   ]
  },
  {
   "cell_type": "markdown",
   "metadata": {},
   "source": [
    "# Tile Coding \n",
    "\n",
    "* Here the underlying state space is continuous and two dimensional.\n",
    "* __We overlay multiple grids or tiling on top of the space, each slightly offset from each other. Now any state space can be coarsely identified by the tiles that it activates.__\n",
    "* If we assign a bit to each tile, then we can represent our new discretised state as a bit vector, with ones for the tiles that get activated, zeros elswhere.\n",
    "\n",
    "* **But the genius lies in how the state value function is computed using the scheme.**\n",
    "    * Instead of storing a separate value for each state V of S, It is defined in terms of the bit vector for that state and a weight for each tile. \n",
    "    * The tile coding algorithm in turns updates these weights iteratively.\n",
    "    * This ensures nearby locations that share tile also share some component of state value, effectively smoothing the learned value function.\n",
    "\n",
    "<img src = \"images\\a13.png\">\n",
    "\n",
    "\n",
    "### Drawbacks\n",
    "* Manually select the tile sizes, there offsets, number of tilings, ahead of time.\n",
    "\n",
    "## Adaptive Tile Coding\n",
    "* A more flexible approach is adaptive tile coding, which starts with fairly large tile and divides each tile into two whenever appropriate.\n",
    "    * Well, we can use a hero stick for that.\n",
    "    * Basically we want to split the state space when we __realize that we are no longer learning much with current representation__.(That is, when our value function isn't changing.) We can stop when we reach a upper limit to the split or some max iterations.\n",
    "* In order to figure out which tile to split, we have look at which one is likely to have greates effect on the value function.\n",
    "* For this, we need to keep track of subtiles and their projected weights.\n",
    "* Then we can pick the tile with the greatest difference between subtile weights.(MAIN ADVANTAGE : Is that it does not rely on a human to specify a discretisation ahead of time.)"
   ]
  },
  {
   "cell_type": "markdown",
   "metadata": {},
   "source": [
    "# Workspace: Tile Coding\n"
   ]
  },
  {
   "cell_type": "markdown",
   "metadata": {},
   "source": [
    "## Tile Coding \n",
    "---\n",
    "\n",
    "Tile coding is an innovative way of discretizing a continuous space that enables better generalization compared to a single grid-based approach. The fundamental idea is to create several overlapping grids or _tiling_; then for any given sample value, we need only check which tiles it lies in. We can then encode the original continuous value by a vector of integer indices or bits that identifies each activated tile. "
   ]
  },
  {
   "cell_type": "code",
   "execution_count": null,
   "metadata": {},
   "outputs": [],
   "source": [
    "# Import common libraries\n",
    "import sys\n",
    "import gym\n",
    "import numpy as np\n",
    "import matplotlib.pyplot as plt\n",
    "\n",
    "# Set plotting options \n",
    "%matplotlib inline\n",
    "plt.style.use('ggplot')\n",
    "np.set_printoptions(precision=3, linewidth=120)"
   ]
  },
  {
   "cell_type": "code",
   "execution_count": null,
   "metadata": {},
   "outputs": [],
   "source": [
    "# Create an environment\n",
    "env = gym.make('Acrobot-v1')\n",
    "env.seed(505);\n",
    "\n",
    "# Explore state (observation) space\n",
    "print(\"State space:\", env.observation_space)\n",
    "print(\"-low:\",env.observation_space.low)\n",
    "print(\"- high:\", env.observation_space.high)\n",
    "\n",
    "# Explore action space\n",
    "print(\"Action space:\", env.action_space)"
   ]
  },
  {
   "cell_type": "markdown",
   "metadata": {},
   "source": [
    "Note that the state space is mult-dimensional, with most dimensions ranging from -1 to 1 (positions of the two joints), while the final dimensions have a larger range. How do we discretize such space using tiles?\n",
    "\n",
    "\n",
    "## 3. Tiling\n",
    "\n",
    "Let's first design a way to create a single tiling for a given state space. This is very similar to a unifrom grid! The only difference is that we should include an offset for each dimension that shifts the split points.\n",
    "\n",
    "For instance, if `low = [-1.0, -5.0], high = [1.0, 5.0], bins = (10,10)` and `offsets = (-0.1, 0.5)`, then the return a list of 2 NumPy arrays (2 dimensions) each containing the following split points (9 split points per dimension):\n",
    "\n",
    "```\n",
    "[array([-0.9, -0.7, -0.5, -0.3, -0.1,  0.1,  0.3,  0.5,  0.7]),\n",
    " array([-3.5, -2.5, -1.5, -0.5,  0.5,  1.5,  2.5,  3.5,  4.5])]\n",
    "```\n",
    "\n",
    "Notice how the split points for the first dimension are offset by `-0.1`, and for the second dimension are offset by `+0.5`. This might mean that some of our tiles, especially along the perimeter, are partially outside the valid state space, but that is unavoidable and harmless.\n"
   ]
  },
  {
   "cell_type": "code",
   "execution_count": 36,
   "metadata": {},
   "outputs": [
    {
     "data": {
      "text/plain": [
       "[array([-0.9, -0.7, -0.5, -0.3, -0.1, 0.1, 0.3, 0.5, 0.7]),\n",
       " array([-3.5, -2.5, -1.5, -0.5, 0.5, 1.5, 2.5, 3.5, 4.5])]"
      ]
     },
     "execution_count": 36,
     "metadata": {},
     "output_type": "execute_result"
    }
   ],
   "source": [
    "def create_tiling_grid(low, high, bins=(10, 10), offsets=(0.0, 0.0)):\n",
    "    \"\"\"Define a uniformly-spaced grid that can be used for tile-coding a space.\n",
    "    \n",
    "    Parameters\n",
    "    ----------\n",
    "    low : array_like\n",
    "        Lower bounds for each dimension of the continuous space.\n",
    "    high : array_like\n",
    "        Upper bounds for each dimension of the continuous space.\n",
    "    bins : tuple\n",
    "        Number of bins or tiles along each corresponding dimension.\n",
    "    offsets : tuple\n",
    "        Split points for each dimension should be offset by these values.\n",
    "    \n",
    "    Returns\n",
    "    -------\n",
    "    grid : list of array_like\n",
    "        A list of arrays containing split points for each dimension.\n",
    "    \"\"\"\n",
    "    # TODO: Implement this\n",
    "    ## Implementing for n-dimensions\n",
    "    out = []\n",
    "    for ii in range(len(low)):\n",
    "        diff = (high[ii]-low[ii])/bins[ii]\n",
    "        #print(diff)\n",
    "        temp = np.arange(low[ii],high[ii],diff)+offsets[ii]\n",
    "        out.append(temp[1:])\n",
    "    return out\n",
    "\n",
    "\n",
    "low = [-1.0, -5.0]\n",
    "high = [1.0, 5.0]\n",
    "create_tiling_grid(low, high, bins=(10, 10), offsets=(-0.1, 0.5))  # [test]"
   ]
  },
  {
   "cell_type": "code",
   "execution_count": 37,
   "metadata": {},
   "outputs": [],
   "source": [
    "def create_tilings(low, high, tiling_specs):\n",
    "    \"\"\"Define multiple tilings using the provided specifications.\n",
    "\n",
    "    Parameters\n",
    "    ----------\n",
    "    low : array_like\n",
    "        Lower bounds for each dimension of the continuous space.\n",
    "    high : array_like\n",
    "        Upper bounds for each dimension of the continuous space.\n",
    "    tiling_specs : list of tuples\n",
    "        A sequence of (bins, offsets) to be passed to create_tiling_grid().\n",
    "\n",
    "    Returns\n",
    "    -------\n",
    "    tilings : list\n",
    "        A list of tilings (grids), each produced by create_tiling_grid().\n",
    "    \"\"\"\n",
    "    # TODO: Implement this\n",
    "    out_final = []\n",
    "    for tile_spec in tiling_specs:\n",
    "        temp=create_tiling_grid(low,high,bins=tile_spec[0],offsets=tile_spec[1])\n",
    "        out_final.append(temp)\n",
    "    #print(*out_final)\n",
    "    return out_final\n",
    "        \n",
    "        \n",
    "\n",
    "\n",
    "# Tiling specs: [(<bins>, <offsets>), ...]\n",
    "tiling_specs = [((10, 10), (-0.066, -0.33)),\n",
    "                ((10, 10), (0.0, 0.0)),\n",
    "                ((10, 10), (0.066, 0.33))]\n",
    "tilings = create_tilings(low, high, tiling_specs)"
   ]
  },
  {
   "cell_type": "markdown",
   "metadata": {},
   "source": [
    "It may be hard to gauge whether we are getting desired results or not. So let's try to visualize these tilings."
   ]
  },
  {
   "cell_type": "code",
   "execution_count": 43,
   "metadata": {},
   "outputs": [
    {
     "name": "stderr",
     "output_type": "stream",
     "text": [
      "/Users/unnat/miniconda3/lib/python3.6/site-packages/matplotlib/cbook/deprecation.py:107: MatplotlibDeprecationWarning: Passing one of 'on', 'true', 'off', 'false' as a boolean is deprecated; use an actual boolean (True/False) instead.\n",
      "  warnings.warn(message, mplDeprecation, stacklevel=1)\n"
     ]
    },
    {
     "data": {
      "image/png": "[encoded data removed]",
      "text/plain": [
       "<Figure size 720x720 with 1 Axes>"
      ]
     },
     "metadata": {},
     "output_type": "display_data"
    }
   ],
   "source": [
    "import matplotlib.pyplot as plt\n",
    "from matplotlib.lines import Line2D\n",
    "\n",
    "def visualize_tilings(tilings):\n",
    "    \"\"\"Plot each tiling as a grid.\"\"\"\n",
    "    prop_cycle = plt.rcParams['axes.prop_cycle']\n",
    "    colors = prop_cycle.by_key()['color']\n",
    "    linestyle = ['-', '--',':']\n",
    "    legend_lines = []\n",
    "    \n",
    "    \n",
    "    fig, ax = plt.subplots(figsize=(10,10))\n",
    "    for i,grid in enumerate(tilings):\n",
    "        for x in grid[0]:\n",
    "            l = ax.axvline(x=x, color=colors[i%len(colors)], linestyle=linestyle[i%len(linestyle)], label=i)\n",
    "        for y in grid[1]:\n",
    "            l = ax.axhline(y=y, color = colors[i%len(colors)], linestyle = linestyle[i%len(linestyle)])\n",
    "        legend_lines.append(l)\n",
    "    ax.grid('off')\n",
    "    ax.legend(legend_lines, [\"Tiling #{}\".format(t) for t in range(len(legend_lines))],facecolor='white',framealpha=0.9)\n",
    "    ax.set_title(\"Tilings\")\n",
    "    return ax # return Axis object to draw on later, if needed\n",
    "\n",
    "visualize_tilings(tilings);\n",
    "            "
   ]
  },
  {
   "cell_type": "markdown",
   "metadata": {},
   "source": [
    "Great! Now that we have a way to generate these tiling, we can next write our encoding function that will convert any given state value to a discrete vector.\n",
    "\n",
    "# 4. Tile Encoding \n",
    "Implemented the following to produce a vector that contains the indices for each tile that input state value belongs to. The shape of the vector can bet the same as the arrangement of tiles we have, or it can be ultimately flattened for convenience.\n",
    "\n",
    "We can use the same `discretize()` function here from grid-based discretization, and simply call it for each tiling.\n",
    "    "
   ]
  },
  {
   "cell_type": "code",
   "execution_count": 53,
   "metadata": {},
   "outputs": [
    {
     "name": "stdout",
     "output_type": "stream",
     "text": [
      "\n",
      "Samples:\n",
      "[(-1.2, -5.1), (-0.75, 3.25), (-0.5, 0.0), (0.25, -1.9), (0.15, -1.75), (0.75, 2.5), (0.7, -3.7), (1.0, 5.0)]\n",
      "\n",
      "Encoded samples:\n",
      "[[(0.0, 0.0), (0.0, 0.0), (0.0, 0.0)], [(1.0, 8.0), (1.0, 8.0), (0.0, 7.0)], [(2.0, 5.0), (2.0, 5.0), (2.0, 4.0)], [(6.0, 3.0), (6.0, 3.0), (5.0, 2.0)], [(6.0, 3.0), (5.0, 3.0), (5.0, 2.0)], [(9.0, 7.0), (8.0, 7.0), (8.0, 7.0)], [(8.0, 1.0), (8.0, 1.0), (8.0, 0.0)], [(9.0, 9.0), (9.0, 9.0), (9.0, 9.0)]]\n"
     ]
    }
   ],
   "source": [
    "def discretize(sample, grid):\n",
    "    \"\"\"Discretize a sample as per given grid.\n",
    "    \n",
    "    Parameters\n",
    "    ----------\n",
    "    sample : array_like\n",
    "        A single sample from the (original) continuous space.\n",
    "    grid : list of array_like\n",
    "        A list of arrays containing split points for each dimension.\n",
    "    \n",
    "    Returns\n",
    "    -------\n",
    "    discretized_sample : array_like\n",
    "        A sequence of integers with the same number of dimensions as sample.\n",
    "    \"\"\"\n",
    "    # TODO: Implement this\n",
    "    out = []\n",
    "        \n",
    "    return tuple(float(np.digitize(samp,grid[i])) for i,samp in enumerate(sample))\n",
    "\n",
    "def tile_encode(sample, tilings, flatten=False):\n",
    "    \"\"\"Encode given sample using tile-coding.\n",
    "    \n",
    "    Parameters\n",
    "    ----------\n",
    "    sample : array_like\n",
    "        A single sample from the (original) continuous space.\n",
    "    tilings : list\n",
    "        A list of tilings (grids), each produced by create_tiling_grid().\n",
    "    flatten : bool\n",
    "        If true, flatten the resulting binary arrays into a single long vector.\n",
    "\n",
    "    Returns\n",
    "    -------\n",
    "    encoded_sample : list or array_like\n",
    "        A list of binary vectors, one for each tiling, or flattened into one.\n",
    "    \"\"\"\n",
    "    # TODO: Implement this\n",
    "    #vector = [[] for ii in range(len(tilings))]\n",
    "    vector = []\n",
    "    for index,tile in enumerate(tilings):\n",
    "        temp =discretize(sample,tile)\n",
    "        vector.append(discretize(sample,tile))\n",
    "        \n",
    "    return vector if flatten == False else np.concatenate(vector)\n",
    "\n",
    "\n",
    "# Test with some sample values\n",
    "samples = [(-1.2 , -5.1 ),\n",
    "           (-0.75,  3.25),\n",
    "           (-0.5 ,  0.0 ),\n",
    "           ( 0.25, -1.9 ),\n",
    "           ( 0.15, -1.75),\n",
    "           ( 0.75,  2.5 ),\n",
    "           ( 0.7 , -3.7 ),\n",
    "           ( 1.0 ,  5.0 )]\n",
    "encoded_samples = [tile_encode(sample, tilings) for sample in samples]\n",
    "print(\"\\nSamples:\", repr(samples), sep=\"\\n\")\n",
    "print(\"\\nEncoded samples:\", repr(encoded_samples), sep=\"\\n\")\n"
   ]
  },
  {
   "cell_type": "code",
   "execution_count": null,
   "metadata": {},
   "outputs": [],
   "source": [
    "from matplotlib.patches import Rectangle\n",
    "\n",
    "def visualize_encoded_samples(samples, encoded_samples, tilings, low=None, high=None):\n",
    "    \"\"\"Visualize samples by activating the respective tiles.\"\"\"\n",
    "    samples = np.array(samples)  # for ease of indexing\n",
    "    print(\"shape :\",samples.shape())\n",
    "    # Show tiling grids\n",
    "    ax = visualize_tilings(tilings) \n",
    "    \n",
    "    # If bounds (low,high) are specified, use them to set axis limits\n",
    "    if low is not None and high is not None:\n",
    "        ax.set_xlim(low[0],high[0])\n",
    "        ax.set_ylim(low[1],high[1])\n",
    "        \n",
    "    else:\n",
    "        # Pre-render (invisible) samples to automatically set reasonable\n",
    "        ax.plot(samples[:, 0], samples[:,1], 'o',alpha=0.0)"
   ]
  },
  {
   "cell_type": "markdown",
   "metadata": {},
   "source": [
    "Inspect the results and make sure we understand how the corresponding tiles are being chosen. Note that some samples may have one or more tiles in common.\n",
    "\n",
    "\n",
    "# 5. Q-Table with Tile Coding\n",
    "\n",
    "The next step is to design a special Q-tabe that is able to utilize this coding scheme. It should have the same kind of interface as a regular table, i.e. given a `<state, action>` pair, it should return a `<value>`. Similarly, it should also allow we to update the `<value >` for a given `<state, action>` pair (note that this should update all the tiles that `<state>` belongs to.)\n",
    "\n",
    "The `<state>` supplied here is assumed to be form the original continuous state space, and `<action>` is discrete (and integer index). The Q-table should internally convert the `<state>` to its tile-coded representation when required. "
   ]
  },
  {
   "cell_type": "code",
   "execution_count": null,
   "metadata": {},
   "outputs": [],
   "source": []
  }
 ],
 "metadata": {
  "kernelspec": {
   "display_name": "Python 3",
   "language": "python",
   "name": "python3"
  },
  "language_info": {
   "codemirror_mode": {
    "name": "ipython",
    "version": 3
   },
   "file_extension": ".py",
   "mimetype": "text/x-python",
   "name": "python",
   "nbconvert_exporter": "python",
   "pygments_lexer": "ipython3",
   "version": "3.6.5"
  }
 },
 "nbformat": 4,
 "nbformat_minor": 2
}
