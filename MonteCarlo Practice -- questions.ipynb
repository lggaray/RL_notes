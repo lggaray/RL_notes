{
 "cells": [
  {
   "cell_type": "code",
   "execution_count": 21,
   "metadata": {},
   "outputs": [],
   "source": [
    "class env():\n",
    "    def __init__(self,ls):\n",
    "        self.seq = ls\n",
    "        self.ac = -1\n",
    "        self.len = len(self.seq)\n",
    "        self.is_three = False\n",
    "        self.nA = 3\n",
    "    def walk(self,action=1):\n",
    "        done =False\n",
    "        try:\n",
    "            prev_ac = self.ac\n",
    "            self.ac += action\n",
    "            reward = action*self.seq[self.ac]\n",
    "            state = self.seq[self.ac]\n",
    "            current_index = self.seq.index(state)\n",
    "        except : \n",
    "            state = self.seq[prev_ac]\n",
    "            self.ac = prev_ac\n",
    "            reward = -20\n",
    "            current_index = self.seq.index(state)\n",
    "        \n",
    "        if self.is_three and action == 3:\n",
    "            state = self.seq[prev_ac]\n",
    "            self.ac = prev_ac\n",
    "            reward = -20\n",
    "            current_index = self.seq.index(state)\n",
    "            \n",
    "        if action == 3:\n",
    "            self.is_three =True\n",
    "        if self.len-1== current_index:\n",
    "            done =True\n",
    "        yield state,reward,current_index,done\n",
    "    def reset(self):\n",
    "        self.seq = ls\n",
    "        self.ac = -1\n",
    "        self.is_three = False\n",
    "        return 0"
   ]
  },
  {
   "cell_type": "code",
   "execution_count": 2,
   "metadata": {},
   "outputs": [],
   "source": [
    "import numpy as np"
   ]
  },
  {
   "cell_type": "code",
   "execution_count": 3,
   "metadata": {},
   "outputs": [],
   "source": [
    "def generating_episodes(env,Q,i):\n",
    "    episode = []\n",
    "    state = env.reset()\n",
    "    is_three = False\n",
    "    current_index = 0\n",
    "    while True:\n",
    "        action= get_action(Q[state],i)\n",
    "        new_state,reward,current_index,done=list(hopping_stone.walk(action))[0] \n",
    "        episode.append((state,reward,current_index,action))\n",
    "        state = new_state\n",
    "        if done :\n",
    "            break\n",
    "    return episode\n",
    "        "
   ]
  },
  {
   "cell_type": "code",
   "execution_count": 4,
   "metadata": {},
   "outputs": [],
   "source": [
    "def get_action(Q,i):\n",
    "    epsilon = 1.0/i    \n",
    "    action_space = (np.zeros(3)+1)*epsilon/3\n",
    "    action_space[np.argmax(Q)] = 1 - epsilon + epsilon/3\n",
    "    action = np.random.choice(np.arange(3)+1,p=action_space)\n",
    "    return action\n",
    "        \n",
    "        \n",
    "    "
   ]
  },
  {
   "cell_type": "code",
   "execution_count": 29,
   "metadata": {},
   "outputs": [
    {
     "data": {
      "text/plain": [
       "array([1, 2, 3])"
      ]
     },
     "execution_count": 29,
     "metadata": {},
     "output_type": "execute_result"
    }
   ],
   "source": [
    "np.arange(3)+1"
   ]
  },
  {
   "cell_type": "code",
   "execution_count": 5,
   "metadata": {},
   "outputs": [],
   "source": [
    "import sys\n",
    "def mc_prediction_q(env, num_episodes, generate_episode, gamma=1.0):\n",
    "    # initialize empty dictionaries of arrays\n",
    "    returns_sum = defaultdict(lambda: np.zeros(3))\n",
    "    N = defaultdict(lambda: np.zeros(3))\n",
    "    Q = defaultdict(lambda: np.zeros(3))\n",
    "    \n",
    "    # loop over episodes\n",
    "    for i_episode in range(1, num_episodes+1):\n",
    "        # monitor progress\n",
    "        if i_episode % 1000 == 0:\n",
    "            print(\"\\rEpisode {}/{}.\".format(i_episode, num_episodes), end=\"\")\n",
    "            sys.stdout.flush()\n",
    "        \n",
    "        ## TODO: complete the function\n",
    "        temp_list = []\n",
    "        episode= generating_episodes(env,Q,i_episode)\n",
    "        for i,exp_tuple in enumerate(episode):\n",
    "            ## state,reward,current_index,action\n",
    "            state,_,_,action = exp_tuple\n",
    "            N[state][action-1] += 1.0 \n",
    "            for j,exp_tuple2 in enumerate(episode[i:]):\n",
    "                _,reward,_,_ = exp_tuple2\n",
    "                ## makes sure it's a single visit.\n",
    "                if (state,action) not in temp_list:\n",
    "                    returns_sum[state][action-1] += reward * (gamma ** j)\n",
    "            Q[state][action-1] = returns_sum[state][action-1]/ N[state][action-1]\n",
    "            temp_list.append((state,action))         \n",
    "        \n",
    "    return Q"
   ]
  },
  {
   "cell_type": "code",
   "execution_count": 11,
   "metadata": {},
   "outputs": [
    {
     "name": "stdout",
     "output_type": "stream",
     "text": [
      "Episode 20000/20000."
     ]
    }
   ],
   "source": [
    "from collections import defaultdict\n",
    "#ls= [13,26,90,12,5,20]\n",
    "ls = [5,4,3,3,1]\n",
    "hopping_stone = env(ls)\n",
    "Q= mc_prediction_q(hopping_stone, 20000, generating_episodes)"
   ]
  },
  {
   "cell_type": "code",
   "execution_count": 12,
   "metadata": {},
   "outputs": [
    {
     "data": {
      "text/plain": [
       "defaultdict(<function __main__.mc_prediction_q.<locals>.<lambda>()>,\n",
       "            {0: array([ 2.85714286, 14.93916958,  5.66666667]),\n",
       "             3: array([  1.9974396 ,  -6.23076923, -17.85714286]),\n",
       "             5: array([  9.4, -12. , -50. ]),\n",
       "             4: array([6.99229482, 0.        , 3.        ])})"
      ]
     },
     "execution_count": 12,
     "metadata": {},
     "output_type": "execute_result"
    }
   ],
   "source": [
    "Q"
   ]
  },
  {
   "cell_type": "code",
   "execution_count": 14,
   "metadata": {},
   "outputs": [
    {
     "name": "stdout",
     "output_type": "stream",
     "text": [
      "14\n"
     ]
    }
   ],
   "source": [
    "#ls= [13,26,90,12,5,20]\n",
    "ls = [5,4,3,2,1]\n",
    "hopping_stone = env(ls)\n",
    "action = np.argmax(Q[0])+1\n",
    "r = 0\n",
    "while True:\n",
    "    new_state,reward,current_index,done=list(hopping_stone.walk(action))[0]\n",
    "    r += reward\n",
    "    action = np.argmax(Q[new_state])+1\n",
    "    if done :\n",
    "        break\n",
    "print(r)"
   ]
  },
  {
   "cell_type": "code",
   "execution_count": 162,
   "metadata": {},
   "outputs": [
    {
     "data": {
      "text/plain": [
       "322"
      ]
     },
     "execution_count": 162,
     "metadata": {},
     "output_type": "execute_result"
    }
   ],
   "source": [
    "90*3 + 12*1 +  20*2"
   ]
  },
  {
   "cell_type": "code",
   "execution_count": 200,
   "metadata": {},
   "outputs": [
    {
     "name": "stdout",
     "output_type": "stream",
     "text": [
      "[(13, 1), (26, 1), (90, 1), (12, 2), (5, 1), (20, 1)]\n"
     ]
    }
   ],
   "source": [
    "index = [(i,(np.argmax(Q[i])+1)) for i in ls]\n",
    "print(index)\n",
    "ls=[0]+ [13,26,90,12,5,20]"
   ]
  },
  {
   "cell_type": "code",
   "execution_count": 201,
   "metadata": {},
   "outputs": [
    {
     "name": "stdout",
     "output_type": "stream",
     "text": [
      "322\n"
     ]
    }
   ],
   "source": [
    "index = [(np.argmax(Q[i])+1) for i in ls]\n",
    "ins = np.argmax(Q[0])+1\n",
    "k = ins\n",
    "r = []\n",
    "t = 0 \n",
    "while True:\n",
    "    if t != 0:\n",
    "        ins += k\n",
    "    r.append(k*ls[ins])\n",
    "    k = np.argmax(Q[ls[ins]])+1\n",
    "    t =1\n",
    "    if ins == len(ls)-1:\n",
    "        break\n",
    "    \n",
    "print(sum(r))    "
   ]
  },
  {
   "cell_type": "code",
   "execution_count": 216,
   "metadata": {},
   "outputs": [
    {
     "data": {
      "text/plain": [
       "defaultdict(<function __main__.mc_prediction_q.<locals>.<lambda>()>,\n",
       "            {0: array([  0.        , 176.04433498, 321.99870738]),\n",
       "             26: array([141.87341772,  61.44444444,   0.        ]),\n",
       "             12: array([22.5, 40. , 20. ]),\n",
       "             5: array([20.,  0.,  0.]),\n",
       "             90: array([51.9991496, 30.       , 32.       ]),\n",
       "             13: array([0., 0., 0.]),\n",
       "             20: array([0., 0., 0.])})"
      ]
     },
     "execution_count": 216,
     "metadata": {},
     "output_type": "execute_result"
    }
   ],
   "source": [
    "Q"
   ]
  },
  {
   "cell_type": "code",
   "execution_count": 245,
   "metadata": {},
   "outputs": [
    {
     "name": "stdout",
     "output_type": "stream",
     "text": [
      "322\n"
     ]
    }
   ],
   "source": [
    "ls= [13,26,90,12,5,20]\n",
    "hopping_stone = env(ls)\n",
    "action = np.argmax(Q[0])+1\n",
    "r = 0\n",
    "while True:\n",
    "    new_state,reward,current_index,done=list(hopping_stone.walk(action))[0]\n",
    "    r += reward\n",
    "    action = np.argmax(Q[new_state])+1\n",
    "    if done :\n",
    "        break\n",
    "print(r)"
   ]
  },
  {
   "cell_type": "code",
   "execution_count": 68,
   "metadata": {},
   "outputs": [
    {
     "name": "stdout",
     "output_type": "stream",
     "text": [
      "[(0, 57, 2, 3), (19, 12, 3, 1), (12, 5, 4, 1), (5, 20, 5, 1)]\n",
      "[(0, 57, 2, 3), (19, 12, 3, 1), (12, 5, 4, 1), (5, 20, 5, 1)]\n",
      "[(0, 13, 0, 1), (13, 26, 1, 1), (26, 15, 4, 3), (5, -20, 4, 3), (5, -20, 4, 2), (5, 20, 5, 1)]\n",
      "[(0, 52, 1, 2), (26, 15, 4, 3), (5, -20, 4, 3), (5, 20, 5, 1)]\n",
      "[(0, 52, 1, 2), (26, 15, 4, 3), (5, -20, 4, 3), (5, 20, 5, 1)]\n"
     ]
    }
   ],
   "source": [
    "from collections import defaultdict\n",
    "Q = defaultdict(lambda:np.zero(5))\n",
    "for i in range(5):\n",
    "    print(generating_episodes(hopping_stone,Q))"
   ]
  },
  {
   "cell_type": "code",
   "execution_count": 16,
   "metadata": {},
   "outputs": [
    {
     "name": "stdout",
     "output_type": "stream",
     "text": [
      "[[1 2 3]\n",
      " [2 3 4]\n",
      " [3 4 1]]\n",
      "Hankle matrix\n"
     ]
    }
   ],
   "source": [
    "\n",
    "temp = {}\n",
    "matrix = np.array([[1,2,3],[2,3,4],[3,4,1]])\n",
    "print(matrix)\n",
    "flag=0\n",
    "nrow ,ncol = matrix.shape\n",
    "for i in range(nrow):\n",
    "    for j in range(ncol):\n",
    "        #print(matrix[i][j])\n",
    "        if i+j != ncol and i+j != 0:\n",
    "            if i+j not in temp.keys():\n",
    "                temp[i+j] = [matrix[i][j]]\n",
    "            else :\n",
    "                if temp[i+j][-1] != matrix[i][j]:\n",
    "                    print(\"\\nNot the required matrix!!\")\n",
    "                    flag = 1\n",
    "                    break\n",
    "if flag == 0: print(\"Hankle matrix\") "
   ]
  },
  {
   "cell_type": "code",
   "execution_count": 71,
   "metadata": {},
   "outputs": [
    {
     "data": {
      "text/plain": [
       "array([[1, 2, 3],\n",
       "       [2, 3, 5]])"
      ]
     },
     "execution_count": 71,
     "metadata": {},
     "output_type": "execute_result"
    }
   ],
   "source": [
    "np.array(matrix)"
   ]
  },
  {
   "cell_type": "code",
   "execution_count": 68,
   "metadata": {},
   "outputs": [
    {
     "data": {
      "text/plain": [
       "{1: [2, 2], 2: [3, 3]}"
      ]
     },
     "execution_count": 68,
     "metadata": {},
     "output_type": "execute_result"
    }
   ],
   "source": [
    "temp"
   ]
  },
  {
   "cell_type": "code",
   "execution_count": 100,
   "metadata": {},
   "outputs": [
    {
     "data": {
      "text/plain": [
       "131"
      ]
     },
     "execution_count": 100,
     "metadata": {},
     "output_type": "execute_result"
    }
   ],
   "source": [
    "26*2 + 19 +20*3"
   ]
  },
  {
   "cell_type": "code",
   "execution_count": 210,
   "metadata": {},
   "outputs": [
    {
     "data": {
      "text/plain": [
       "array([[1, 2, 3],\n",
       "       [2, 3, 4],\n",
       "       [3, 4, 1]])"
      ]
     },
     "execution_count": 210,
     "metadata": {},
     "output_type": "execute_result"
    }
   ],
   "source": [
    "np.array([[1,2,3],[2,3,4],[3,4,1]])"
   ]
  },
  {
   "cell_type": "code",
   "execution_count": 30,
   "metadata": {},
   "outputs": [],
   "source": [
    "import matplotlib.pyplot as plt"
   ]
  },
  {
   "cell_type": "markdown",
   "metadata": {},
   "source": [
    "## Sarsamax"
   ]
  },
  {
   "cell_type": "code",
   "execution_count": 106,
   "metadata": {},
   "outputs": [],
   "source": [
    "# def generate_episodes(env,Q,i):\n",
    "#     state = env.reset()\n",
    "#     action = get_action(env,Q,state,i)\n",
    "#     episode = []\n",
    "#     ##for ii in range(700):\n",
    "#     while True:\n",
    "#         next_state,reward,done,prob=env.walk(action)\n",
    "#         next_action = get_action(env,Q,next_state,i)\n",
    "#         episode.append((state,action,next_state,next_action,reward))\n",
    "#         state = next_state\n",
    "#         action = next_action\n",
    "#         if done:\n",
    "#             break\n",
    "#     return episode\n",
    "\n",
    "\n",
    "def generating_episodes(env,Q,i):\n",
    "    episode = []\n",
    "    state = env.reset()\n",
    "    is_three = False\n",
    "    current_index = 0\n",
    "    action= get_action(Q[state],i)\n",
    "    while True:\n",
    "        new_state,reward,current_index,done=list(hopping_stone.walk(action))[0]\n",
    "        next_action= get_action(Q[new_state],i)\n",
    "        #episode.append((state,reward,current_index,action,new_state,next_action))\n",
    "        episode.append((state,action,new_state,next_action,reward))\n",
    "        state = new_state\n",
    "        action = next_action\n",
    "        if done :\n",
    "            break\n",
    "    return episode\n",
    "\n",
    "# def get_action(env,Q,state,i):\n",
    "# #     nA = 3\n",
    "# #     epsilon = 1.0/i\n",
    "# #     probs = epsilon*(np.ones(nA))/nA\n",
    "# #     probs[np.argmax(Q[state])]+= 1-epsilon\n",
    "# #     return np.random.choice(np.arange(nA),p=probs)\n",
    "\n",
    "def get_action(Q,i):\n",
    "    epsilon = 1.0/i  \n",
    "    if i < 1500:\n",
    "        epsilon = 0.8\n",
    "    #epsilon = 1.0/i    \n",
    "    action_space = (np.zeros(3)+1)*epsilon/3\n",
    "    action_space[np.argmax(Q)] = 1 - epsilon + epsilon/3\n",
    "    action = np.random.choice(np.arange(3)+1,p=action_space)\n",
    "    return action\n",
    "\n",
    "\n",
    "\n",
    "def q_learning(env, num_episodes, alpha, gamma=1.0):\n",
    "    # initialize action-value function (empty dictionary of arrays)\n",
    "    Q = defaultdict(lambda: np.zeros(env.nA))\n",
    "    # initialize performance monitor\n",
    "    # loop over episodes\n",
    "    tmp = []\n",
    "    for i_episode in range(1, num_episodes+1):\n",
    "\n",
    "\n",
    "        if i_episode == 1:\n",
    "            scores =[]\n",
    "        # monitor progress\n",
    "        if i_episode % 100 == 0:\n",
    "            if scores:\n",
    "                tmp.append(np.mean(scores))\n",
    "                #print(tmp)\n",
    "            scores = []\n",
    "            print(\"\\rEpisode {}/{}\".format(i_episode, num_episodes), end=\"\")\n",
    "            #print(episode)\n",
    "            sys.stdout.flush()   \n",
    "\n",
    "        ## TODO: complete the function\n",
    "        episode = generating_episodes(env,Q,i_episode)\n",
    "        counter = 0\n",
    "        #print(episode)\n",
    "        for j,(state,action,next_state,next_action,reward) in enumerate(episode):\n",
    "            #print(action,next_action)\n",
    "            counter += reward\n",
    "            Q[state][action-1] +=  alpha * (reward + (gamma**j) * Q[next_state][np.argmax(Q[next_state])] - Q[state][action-1])\n",
    "        scores.append(counter)    \n",
    "    # plot performance\n",
    "    plt.plot(np.linspace(0,num_episodes,len(tmp),endpoint=False),np.asarray(tmp))\n",
    "    plt.xlabel('Episode Number')\n",
    "    plt.ylabel('Average Reward (Over Next %d Episodes)' % 100)\n",
    "    plt.show()\n",
    "    # print best 100-episode performance\n",
    "    print(('Best Average Reward over %d Episodes: ' % 100), np.max(tmp))\n",
    "\n",
    "    return Q\n"
   ]
  },
  {
   "cell_type": "code",
   "execution_count": 107,
   "metadata": {},
   "outputs": [
    {
     "name": "stdout",
     "output_type": "stream",
     "text": [
      "Episode 20000/20000"
     ]
    },
    {
     "data": {
      "image/png": "[encoded data removed]",
      "text/plain": [
       "<Figure size 432x288 with 1 Axes>"
      ]
     },
     "metadata": {},
     "output_type": "display_data"
    },
    {
     "name": "stdout",
     "output_type": "stream",
     "text": [
      "Best Average Reward over 100 Episodes:  15.0\n"
     ]
    }
   ],
   "source": [
    "#ls= [13,26,90,12,5,20]\n",
    "ls = [5,4,3,2,1]\n",
    "hopping_stone = env(ls)\n",
    "Q = q_learning(hopping_stone,20000,0.04)\n",
    "# state,action,next_state,next_action,reward"
   ]
  },
  {
   "cell_type": "code",
   "execution_count": 97,
   "metadata": {},
   "outputs": [
    {
     "data": {
      "text/plain": [
       "defaultdict(<function __main__.q_learning.<locals>.<lambda>()>,\n",
       "            {0: array([ 0.27501112,  0.3836036 , 19.        ]),\n",
       "             3: array([ 0.81909393, 10.        , -1.5065344 ]),\n",
       "             4: array([ 1.08621105, -0.8       , -0.8       ]),\n",
       "             5: array([0., 0., 0.]),\n",
       "             1: array([0.71848603, 0.        , 0.        ]),\n",
       "             2: array([2.89100537, 0.35013069, 0.        ])})"
      ]
     },
     "execution_count": 97,
     "metadata": {},
     "output_type": "execute_result"
    }
   ],
   "source": [
    "Q"
   ]
  },
  {
   "cell_type": "code",
   "execution_count": 105,
   "metadata": {},
   "outputs": [
    {
     "name": "stdout",
     "output_type": "stream",
     "text": [
      "15\n"
     ]
    }
   ],
   "source": [
    "#ls= [13,26,90,12,5,20]\n",
    "ls = [5,4,3,2,1]\n",
    "hopping_stone = env(ls)\n",
    "action = np.argmax(Q[0])+1\n",
    "r = 0\n",
    "while True:\n",
    "    new_state,reward,current_index,done=list(hopping_stone.walk(action))[0]\n",
    "    r += reward\n",
    "    action = np.argmax(Q[new_state])+1\n",
    "    if done :\n",
    "        break\n",
    "print(r)"
   ]
  },
  {
   "cell_type": "code",
   "execution_count": null,
   "metadata": {},
   "outputs": [],
   "source": []
  }
 ],
 "metadata": {
  "kernelspec": {
   "display_name": "Python 3",
   "language": "python",
   "name": "python3"
  },
  "language_info": {
   "codemirror_mode": {
    "name": "ipython",
    "version": 3
   },
   "file_extension": ".py",
   "mimetype": "text/x-python",
   "name": "python",
   "nbconvert_exporter": "python",
   "pygments_lexer": "ipython3",
   "version": "3.6.5"
  }
 },
 "nbformat": 4,
 "nbformat_minor": 2
}
