{
 "cells": [
  {
   "cell_type": "code",
   "execution_count": 1,
   "metadata": {},
   "outputs": [],
   "source": [
    "class env():\n",
    "    def __init__(self,ls):\n",
    "        self.seq = ls\n",
    "        self.ac = -1\n",
    "        self.len = len(self.seq)\n",
    "        self.is_three = False\n",
    "    def walk(self,action=1):\n",
    "        done =False\n",
    "        try:\n",
    "            prev_ac = self.ac\n",
    "            self.ac += action\n",
    "            reward = action*self.seq[self.ac]\n",
    "            state = self.seq[self.ac]\n",
    "            current_index = self.seq.index(state)\n",
    "        except : \n",
    "            state = self.seq[prev_ac]\n",
    "            self.ac = prev_ac\n",
    "            reward = -20\n",
    "            current_index = self.seq.index(state)\n",
    "        \n",
    "        if self.is_three and action == 3:\n",
    "            state = self.seq[prev_ac]\n",
    "            self.ac = prev_ac\n",
    "            reward = -20\n",
    "            current_index = self.seq.index(state)\n",
    "            \n",
    "        if action == 3:\n",
    "            self.is_three =True\n",
    "        if self.len-1== current_index:\n",
    "            done =True\n",
    "        yield state,reward,current_index,done\n",
    "    def reset(self):\n",
    "        self.seq = ls\n",
    "        self.ac = -1\n",
    "        self.is_three = False\n",
    "        return 0"
   ]
  },
  {
   "cell_type": "code",
   "execution_count": 2,
   "metadata": {},
   "outputs": [],
   "source": [
    "import numpy as np"
   ]
  },
  {
   "cell_type": "code",
   "execution_count": 3,
   "metadata": {},
   "outputs": [],
   "source": [
    "def generating_episodes(env,Q,i):\n",
    "    episode = []\n",
    "    state = env.reset()\n",
    "    is_three = False\n",
    "    current_index = 0\n",
    "    while True:\n",
    "        action= get_action(Q[state],i)\n",
    "        new_state,reward,current_index,done=list(hopping_stone.walk(action))[0] \n",
    "        episode.append((state,reward,current_index,action))\n",
    "        state = new_state\n",
    "        if done :\n",
    "            break\n",
    "    return episode\n",
    "        "
   ]
  },
  {
   "cell_type": "code",
   "execution_count": 4,
   "metadata": {},
   "outputs": [],
   "source": [
    "def get_action(Q,i):\n",
    "    epsilon = 0.7/i    \n",
    "    action_space = (np.zeros(3)+1)*epsilon/3\n",
    "    action_space[np.argmax(Q)] = 1 - epsilon + epsilon/3\n",
    "    action = np.random.choice(np.arange(3)+1,p=action_space)\n",
    "    return action\n",
    "        \n",
    "        \n",
    "    "
   ]
  },
  {
   "cell_type": "code",
   "execution_count": 5,
   "metadata": {},
   "outputs": [],
   "source": [
    "import sys\n",
    "def mc_prediction_q(env, num_episodes, generate_episode, gamma=1.0):\n",
    "    # initialize empty dictionaries of arrays\n",
    "    returns_sum = defaultdict(lambda: np.zeros(3))\n",
    "    N = defaultdict(lambda: np.zeros(3))\n",
    "    Q = defaultdict(lambda: np.zeros(3))\n",
    "    \n",
    "    # loop over episodes\n",
    "    for i_episode in range(1, num_episodes+1):\n",
    "        # monitor progress\n",
    "        if i_episode % 1000 == 0:\n",
    "            print(\"\\rEpisode {}/{}.\".format(i_episode, num_episodes), end=\"\")\n",
    "            sys.stdout.flush()\n",
    "        \n",
    "        ## TODO: complete the function\n",
    "        temp_list = []\n",
    "        episode= generating_episodes(env,Q,i_episode)\n",
    "        for i,exp_tuple in enumerate(episode):\n",
    "            ## state,reward,current_index,action\n",
    "            state,_,_,action = exp_tuple\n",
    "            N[state][action-1] += 1.0 \n",
    "            for j,exp_tuple2 in enumerate(episode[i:]):\n",
    "                _,reward,_,_ = exp_tuple2\n",
    "                ## makes sure it's a single visit.\n",
    "                if (state,action) not in temp_list:\n",
    "                    returns_sum[state][action-1] += reward * (gamma ** j)\n",
    "            Q[state][action-1] = returns_sum[state][action-1]/ N[state][action-1]\n",
    "            temp_list.append((state,action))         \n",
    "        \n",
    "    return Q"
   ]
  },
  {
   "cell_type": "code",
   "execution_count": 7,
   "metadata": {},
   "outputs": [
    {
     "name": "stdout",
     "output_type": "stream",
     "text": [
      "Episode 5000/5000."
     ]
    }
   ],
   "source": [
    "from collections import defaultdict\n",
    "ls= [13,26,90,12,5,20]\n",
    "hopping_stone = env(ls)\n",
    "Q= mc_prediction_q(hopping_stone, 5000, generating_episodes)"
   ]
  },
  {
   "cell_type": "code",
   "execution_count": 8,
   "metadata": {},
   "outputs": [
    {
     "data": {
      "text/plain": [
       "defaultdict(<function __main__.mc_prediction_q.<locals>.<lambda>()>,\n",
       "            {0: array([169.83333333, 179.        , 321.87239583]),\n",
       "             13: array([156.83333333,   0.        ,   0.        ]),\n",
       "             26: array([129.875,   0.   ,   0.   ]),\n",
       "             90: array([51.87394958, 30.        , 22.        ]),\n",
       "             12: array([24.47368421, 40.        , 20.        ]),\n",
       "             5: array([20.,  0.,  0.])})"
      ]
     },
     "execution_count": 8,
     "metadata": {},
     "output_type": "execute_result"
    }
   ],
   "source": [
    "Q"
   ]
  },
  {
   "cell_type": "code",
   "execution_count": 9,
   "metadata": {},
   "outputs": [
    {
     "name": "stdout",
     "output_type": "stream",
     "text": [
      "322\n"
     ]
    }
   ],
   "source": [
    "ls= [13,26,90,12,5,20]\n",
    "hopping_stone = env(ls)\n",
    "action = np.argmax(Q[0])+1\n",
    "r = 0\n",
    "while True:\n",
    "    new_state,reward,current_index,done=list(hopping_stone.walk(action))[0]\n",
    "    r += reward\n",
    "    action = np.argmax(Q[new_state])+1\n",
    "    if done :\n",
    "        break\n",
    "print(r)"
   ]
  },
  {
   "cell_type": "code",
   "execution_count": 162,
   "metadata": {},
   "outputs": [
    {
     "data": {
      "text/plain": [
       "322"
      ]
     },
     "execution_count": 162,
     "metadata": {},
     "output_type": "execute_result"
    }
   ],
   "source": [
    "90*3 + 12*1 +  20*2"
   ]
  },
  {
   "cell_type": "code",
   "execution_count": 200,
   "metadata": {},
   "outputs": [
    {
     "name": "stdout",
     "output_type": "stream",
     "text": [
      "[(13, 1), (26, 1), (90, 1), (12, 2), (5, 1), (20, 1)]\n"
     ]
    }
   ],
   "source": [
    "index = [(i,(np.argmax(Q[i])+1)) for i in ls]\n",
    "print(index)\n",
    "ls=[0]+ [13,26,90,12,5,20]"
   ]
  },
  {
   "cell_type": "code",
   "execution_count": 201,
   "metadata": {},
   "outputs": [
    {
     "name": "stdout",
     "output_type": "stream",
     "text": [
      "322\n"
     ]
    }
   ],
   "source": [
    "index = [(np.argmax(Q[i])+1) for i in ls]\n",
    "ins = np.argmax(Q[0])+1\n",
    "k = ins\n",
    "r = []\n",
    "t = 0 \n",
    "while True:\n",
    "    if t != 0:\n",
    "        ins += k\n",
    "    r.append(k*ls[ins])\n",
    "    k = np.argmax(Q[ls[ins]])+1\n",
    "    t =1\n",
    "    if ins == len(ls)-1:\n",
    "        break\n",
    "    \n",
    "print(sum(r))    "
   ]
  },
  {
   "cell_type": "code",
   "execution_count": 216,
   "metadata": {},
   "outputs": [
    {
     "data": {
      "text/plain": [
       "defaultdict(<function __main__.mc_prediction_q.<locals>.<lambda>()>,\n",
       "            {0: array([  0.        , 176.04433498, 321.99870738]),\n",
       "             26: array([141.87341772,  61.44444444,   0.        ]),\n",
       "             12: array([22.5, 40. , 20. ]),\n",
       "             5: array([20.,  0.,  0.]),\n",
       "             90: array([51.9991496, 30.       , 32.       ]),\n",
       "             13: array([0., 0., 0.]),\n",
       "             20: array([0., 0., 0.])})"
      ]
     },
     "execution_count": 216,
     "metadata": {},
     "output_type": "execute_result"
    }
   ],
   "source": [
    "Q"
   ]
  },
  {
   "cell_type": "code",
   "execution_count": 245,
   "metadata": {},
   "outputs": [
    {
     "name": "stdout",
     "output_type": "stream",
     "text": [
      "322\n"
     ]
    }
   ],
   "source": [
    "ls= [13,26,90,12,5,20]\n",
    "hopping_stone = env(ls)\n",
    "action = np.argmax(Q[0])+1\n",
    "r = 0\n",
    "while True:\n",
    "    new_state,reward,current_index,done=list(hopping_stone.walk(action))[0]\n",
    "    r += reward\n",
    "    action = np.argmax(Q[new_state])+1\n",
    "    if done :\n",
    "        break\n",
    "print(r)"
   ]
  },
  {
   "cell_type": "code",
   "execution_count": 68,
   "metadata": {},
   "outputs": [
    {
     "name": "stdout",
     "output_type": "stream",
     "text": [
      "[(0, 57, 2, 3), (19, 12, 3, 1), (12, 5, 4, 1), (5, 20, 5, 1)]\n",
      "[(0, 57, 2, 3), (19, 12, 3, 1), (12, 5, 4, 1), (5, 20, 5, 1)]\n",
      "[(0, 13, 0, 1), (13, 26, 1, 1), (26, 15, 4, 3), (5, -20, 4, 3), (5, -20, 4, 2), (5, 20, 5, 1)]\n",
      "[(0, 52, 1, 2), (26, 15, 4, 3), (5, -20, 4, 3), (5, 20, 5, 1)]\n",
      "[(0, 52, 1, 2), (26, 15, 4, 3), (5, -20, 4, 3), (5, 20, 5, 1)]\n"
     ]
    }
   ],
   "source": [
    "from collections import defaultdict\n",
    "Q = defaultdict(lambda:np.zero(5))\n",
    "for i in range(5):\n",
    "    print(generating_episodes(hopping_stone,Q))"
   ]
  },
  {
   "cell_type": "code",
   "execution_count": 16,
   "metadata": {},
   "outputs": [
    {
     "name": "stdout",
     "output_type": "stream",
     "text": [
      "[[1 2 3]\n",
      " [2 3 4]\n",
      " [3 4 1]]\n",
      "Hankle matrix\n"
     ]
    }
   ],
   "source": [
    "\n",
    "temp = {}\n",
    "matrix = np.array([[1,2,3],[2,3,4],[3,4,1]])\n",
    "print(matrix)\n",
    "flag=0\n",
    "nrow ,ncol = matrix.shape\n",
    "for i in range(nrow):\n",
    "    for j in range(ncol):\n",
    "        #print(matrix[i][j])\n",
    "        if i+j != ncol and i+j != 0:\n",
    "            if i+j not in temp.keys():\n",
    "                temp[i+j] = [matrix[i][j]]\n",
    "            else :\n",
    "                if temp[i+j][-1] != matrix[i][j]:\n",
    "                    print(\"\\nNot the required matrix!!\")\n",
    "                    flag = 1\n",
    "                    break\n",
    "if flag == 0: print(\"Hankle matrix\") "
   ]
  },
  {
   "cell_type": "code",
   "execution_count": 71,
   "metadata": {},
   "outputs": [
    {
     "data": {
      "text/plain": [
       "array([[1, 2, 3],\n",
       "       [2, 3, 5]])"
      ]
     },
     "execution_count": 71,
     "metadata": {},
     "output_type": "execute_result"
    }
   ],
   "source": [
    "np.array(matrix)"
   ]
  },
  {
   "cell_type": "code",
   "execution_count": 68,
   "metadata": {},
   "outputs": [
    {
     "data": {
      "text/plain": [
       "{1: [2, 2], 2: [3, 3]}"
      ]
     },
     "execution_count": 68,
     "metadata": {},
     "output_type": "execute_result"
    }
   ],
   "source": [
    "temp"
   ]
  },
  {
   "cell_type": "code",
   "execution_count": 100,
   "metadata": {},
   "outputs": [
    {
     "data": {
      "text/plain": [
       "131"
      ]
     },
     "execution_count": 100,
     "metadata": {},
     "output_type": "execute_result"
    }
   ],
   "source": [
    "26*2 + 19 +20*3"
   ]
  },
  {
   "cell_type": "code",
   "execution_count": 210,
   "metadata": {},
   "outputs": [
    {
     "data": {
      "text/plain": [
       "array([[1, 2, 3],\n",
       "       [2, 3, 4],\n",
       "       [3, 4, 1]])"
      ]
     },
     "execution_count": 210,
     "metadata": {},
     "output_type": "execute_result"
    }
   ],
   "source": [
    "np.array([[1,2,3],[2,3,4],[3,4,1]])"
   ]
  },
  {
   "cell_type": "code",
   "execution_count": null,
   "metadata": {},
   "outputs": [],
   "source": []
  },
  {
   "cell_type": "code",
   "execution_count": null,
   "metadata": {},
   "outputs": [],
   "source": []
  }
 ],
 "metadata": {
  "kernelspec": {
   "display_name": "Python 3",
   "language": "python",
   "name": "python3"
  },
  "language_info": {
   "codemirror_mode": {
    "name": "ipython",
    "version": 3
   },
   "file_extension": ".py",
   "mimetype": "text/x-python",
   "name": "python",
   "nbconvert_exporter": "python",
   "pygments_lexer": "ipython3",
   "version": "3.6.5"
  }
 },
 "nbformat": 4,
 "nbformat_minor": 2
}
